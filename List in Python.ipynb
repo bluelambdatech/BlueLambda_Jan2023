{
 "cells": [
  {
   "cell_type": "markdown",
   "id": "23f62646",
   "metadata": {},
   "source": [
    "## List in Python\n",
    "\n",
    "1. Lists are use to store multiple items (homogeneous and non-homogeneous) in a single variable.\n",
    "2. Place the items inside the square brackets[]\n",
    "3. Items can be of ANY data type"
   ]
  },
  {
   "cell_type": "code",
   "execution_count": 1,
   "id": "4855164e",
   "metadata": {},
   "outputs": [
    {
     "name": "stdout",
     "output_type": "stream",
     "text": [
      "['sunday', 'monday', 'tuesday', 'wednesday', 'thursday']\n"
     ]
    }
   ],
   "source": [
    "#Create a List\n",
    "\n",
    "list_one = ['sunday', 'monday', 'tuesday', 'wednesday', 'thursday']\n",
    "\n",
    "print(list_one)"
   ]
  },
  {
   "cell_type": "code",
   "execution_count": 2,
   "id": "94aafdab",
   "metadata": {},
   "outputs": [
    {
     "name": "stdout",
     "output_type": "stream",
     "text": [
      "5\n"
     ]
    }
   ],
   "source": [
    "#List Length\n",
    "\n",
    "list_one = ['sunday', 'monday', 'tuesday', 'wednesday', 'thursday']\n",
    "\n",
    "print(len(list_one))"
   ]
  },
  {
   "cell_type": "code",
   "execution_count": 3,
   "id": "b3f2031a",
   "metadata": {},
   "outputs": [
    {
     "name": "stdout",
     "output_type": "stream",
     "text": [
      "['abc', 67, True, 3.14, 'female']\n"
     ]
    }
   ],
   "source": [
    "#List with different data types\n",
    "\n",
    "list_two = ['abc', 67, True, 3.14, 'female']\n",
    "\n",
    "print(list_two)"
   ]
  },
  {
   "cell_type": "code",
   "execution_count": 4,
   "id": "ab482348",
   "metadata": {},
   "outputs": [
    {
     "name": "stdout",
     "output_type": "stream",
     "text": [
      "<class 'list'>\n"
     ]
    }
   ],
   "source": [
    "#type with List\n",
    "\n",
    "list_two = ['abc', 67, True, 3.14, 'female']\n",
    "\n",
    "print(type(list_two))"
   ]
  },
  {
   "cell_type": "code",
   "execution_count": 5,
   "id": "32d28856",
   "metadata": {},
   "outputs": [
    {
     "name": "stdout",
     "output_type": "stream",
     "text": [
      "['hello', 'World', 'Beautiful', 'Day']\n"
     ]
    }
   ],
   "source": [
    "#list constructor to make a List\n",
    "\n",
    "list_cons = list(('hello', 'World', 'Beautiful', 'Day'))\n",
    "\n",
    "print(list_cons)"
   ]
  },
  {
   "cell_type": "code",
   "execution_count": 6,
   "id": "957df390",
   "metadata": {},
   "outputs": [
    {
     "name": "stdout",
     "output_type": "stream",
     "text": [
      "['hello', [8, 4, 6], ['world']]\n"
     ]
    }
   ],
   "source": [
    "#nested list\n",
    "\n",
    "list_nest = ['hello', [8, 4, 6], ['world']]\n",
    "\n",
    "print(list_nest)"
   ]
  },
  {
   "cell_type": "code",
   "execution_count": 8,
   "id": "56fe8eea",
   "metadata": {},
   "outputs": [
    {
     "name": "stdout",
     "output_type": "stream",
     "text": [
      "sunday\n",
      "monday\n",
      "tuesday\n",
      "wednesday\n",
      "thursday\n"
     ]
    }
   ],
   "source": [
    "#iterate through list\n",
    "\n",
    "for day in list_one:\n",
    "\n",
    "    print(day)"
   ]
  },
  {
   "cell_type": "code",
   "execution_count": 9,
   "id": "263c0940",
   "metadata": {},
   "outputs": [
    {
     "name": "stdout",
     "output_type": "stream",
     "text": [
      "tuesday\n"
     ]
    }
   ],
   "source": [
    "#Access list elements: Use index operator [] to access an item in a list with index no\n",
    "\n",
    "print(list_one[2])"
   ]
  },
  {
   "cell_type": "code",
   "execution_count": 11,
   "id": "02e485fd",
   "metadata": {},
   "outputs": [
    {
     "name": "stdout",
     "output_type": "stream",
     "text": [
      "aeroplane\n",
      "bike\n"
     ]
    }
   ],
   "source": [
    "#Negative Indexing: -1 refers to the last item, -2 refers to second to the last item\n",
    "\n",
    "list_three = ['car', 'bike', 'aeroplane']\n",
    "\n",
    "print(list_three[-1])\n",
    "print(list_three[-2])"
   ]
  },
  {
   "cell_type": "code",
   "execution_count": 12,
   "id": "622d9a4f",
   "metadata": {},
   "outputs": [
    {
     "name": "stdout",
     "output_type": "stream",
     "text": [
      "['monday', 'tuesday', 'wednesday']\n"
     ]
    }
   ],
   "source": [
    "#slice lists in python: Use the slicing operator :(colon)\n",
    "\n",
    "list_one = ['sunday', 'monday', 'tuesday', 'wednesday', 'thursday']\n",
    "\n",
    "print(list_one[1:4])"
   ]
  },
  {
   "cell_type": "code",
   "execution_count": 13,
   "id": "517ad958",
   "metadata": {},
   "outputs": [
    {
     "name": "stdout",
     "output_type": "stream",
     "text": [
      "['thursday', 'wednesday', 'tuesday', 'monday', 'sunday']\n"
     ]
    }
   ],
   "source": [
    "#reverse the list: Use the slicing operator :(colon)\n",
    "\n",
    "list_one = ['sunday', 'monday', 'tuesday', 'wednesday', 'thursday']\n",
    "\n",
    "print(list_one[::-1])"
   ]
  },
  {
   "cell_type": "code",
   "execution_count": 14,
   "id": "1d00fc26",
   "metadata": {},
   "outputs": [
    {
     "name": "stdout",
     "output_type": "stream",
     "text": [
      "['sunday', 'monday', 'tuesday', 'friday', 'thursday']\n"
     ]
    }
   ],
   "source": [
    "#Add/Change List Elements: use the assignment operator = to change an item\n",
    "\n",
    "list_one = ['sunday', 'monday', 'tuesday', 'wednesday', 'thursday']\n",
    "list_one[3] = 'friday'\n",
    "\n",
    "print(list_one)"
   ]
  },
  {
   "cell_type": "code",
   "execution_count": 16,
   "id": "54285c8e",
   "metadata": {},
   "outputs": [
    {
     "name": "stdout",
     "output_type": "stream",
     "text": [
      "['sunday', 'monday', 'tuesday', 'wednesday', 'thursday', 'friday']\n",
      "['sunday', 'monday', 'tuesday', 'wednesday', 'thursday', 'friday', 'saturday']\n"
     ]
    }
   ],
   "source": [
    "#Appending and Extending list in Python: Use the append() or extend() method\n",
    "\n",
    "list_one = ['sunday', 'monday', 'tuesday', 'wednesday', 'thursday']\n",
    "list_one.append(\"friday\")\n",
    "\n",
    "print(list_one)\n",
    "\n",
    "#List can also be extended using the extend function\n",
    "\n",
    "list_one.extend(['saturday'])\n",
    "print(list_one)"
   ]
  },
  {
   "cell_type": "code",
   "execution_count": 18,
   "id": "746518c4",
   "metadata": {},
   "outputs": [
    {
     "name": "stdout",
     "output_type": "stream",
     "text": [
      "['sunday', 'monday', 'tuesday', 'wednesday', 'thursday', 0, 1, 2, 3, 4]\n",
      "['a', 'b', 'a', 'b']\n"
     ]
    }
   ],
   "source": [
    "#Concatenating and repeat lists: use + operator to concate two lists and use * operator to repeat lists\n",
    "\n",
    "list_one = ['sunday', 'monday', 'tuesday', 'wednesday', 'thursday']\n",
    "\n",
    "print(list_one + [0, 1, 2, 3, 4])\n",
    "\n",
    "\n",
    "#repeat Operation using * operator\n",
    "\n",
    "print(['a', 'b']*2)\n"
   ]
  },
  {
   "cell_type": "code",
   "execution_count": 19,
   "id": "996665dc",
   "metadata": {},
   "outputs": [
    {
     "name": "stdout",
     "output_type": "stream",
     "text": [
      "['sunday', 'monday', 'friday', 'tuesday', 'wednesday', 'thursday']\n"
     ]
    }
   ],
   "source": [
    "#insert() method: insert item at a desired location\n",
    "\n",
    "list_one = ['sunday', 'monday', 'tuesday', 'wednesday', 'thursday']\n",
    "list_one.insert(2, 'friday')\n",
    "\n",
    "print(list_one)"
   ]
  },
  {
   "cell_type": "code",
   "execution_count": 27,
   "id": "73ba64e3",
   "metadata": {},
   "outputs": [
    {
     "name": "stdout",
     "output_type": "stream",
     "text": [
      "del result: ['sunday', 'monday', 'wednesday', 'thursday']\n",
      "remove result: ['monday', 'tuesday', 'wednesday', 'thursday']\n",
      "pop result: ['sunday', 'monday', 'wednesday', 'thursday']\n"
     ]
    }
   ],
   "source": [
    "#Delete/Remove List Elements: Delete one or more items or entire list using the keyword del\n",
    "\n",
    "list_one = ['sunday', 'monday', 'tuesday', 'wednesday', 'thursday']\n",
    "del list_one[2]\n",
    "print(\"del result:\",list_one)\n",
    "\n",
    "#Remove method: remove the given item or pop() method to remove an item at the given index location\n",
    "\n",
    "list_one = ['sunday', 'monday', 'tuesday', 'wednesday', 'thursday']\n",
    "list_one.remove('sunday')\n",
    "print(\"remove result:\",list_one)\n",
    "\n",
    "#pop method\n",
    "list_one = ['sunday', 'monday', 'tuesday', 'wednesday', 'thursday']\n",
    "list_one.pop(2)\n",
    "print(\"pop result:\", list_one)\n"
   ]
  },
  {
   "cell_type": "code",
   "execution_count": 30,
   "id": "fe2473fa",
   "metadata": {},
   "outputs": [
    {
     "name": "stdout",
     "output_type": "stream",
     "text": [
      "3\n"
     ]
    }
   ],
   "source": [
    "#index() method: Returns the index of the first matched item\n",
    "\n",
    "list_one = ['sunday', 'monday', 'tuesday', 'wednesday', 'thursday']\n",
    "print(list_one.index(\"wednesday\"))"
   ]
  },
  {
   "cell_type": "code",
   "execution_count": 31,
   "id": "c2b019d0",
   "metadata": {},
   "outputs": [
    {
     "name": "stdout",
     "output_type": "stream",
     "text": [
      "1\n"
     ]
    }
   ],
   "source": [
    "#count() method: Returns the count of the number of items\n",
    "\n",
    "list_one = ['sunday', 'monday', 'tuesday', 'wednesday', 'thursday']\n",
    "print(list_one.count(\"wednesday\"))"
   ]
  },
  {
   "cell_type": "code",
   "execution_count": 32,
   "id": "9e641e98",
   "metadata": {},
   "outputs": [
    {
     "name": "stdout",
     "output_type": "stream",
     "text": [
      "['monday', 'sunday', 'thursday', 'tuesday', 'wednesday']\n"
     ]
    }
   ],
   "source": [
    "#sort() method: sort items in a list in ascending order\n",
    "\n",
    "list_one = ['sunday', 'monday', 'tuesday', 'wednesday', 'thursday']\n",
    "list_one.sort()\n",
    "\n",
    "print(list_one)"
   ]
  },
  {
   "cell_type": "code",
   "execution_count": 33,
   "id": "6c2f6c7b",
   "metadata": {},
   "outputs": [
    {
     "name": "stdout",
     "output_type": "stream",
     "text": [
      "['thursday', 'wednesday', 'tuesday', 'monday', 'sunday']\n"
     ]
    }
   ],
   "source": [
    "#reverse() method: reverse the order of the item in a list\n",
    "\n",
    "list_one = ['sunday', 'monday', 'tuesday', 'wednesday', 'thursday']\n",
    "list_one.reverse()\n",
    "\n",
    "print(list_one)"
   ]
  },
  {
   "cell_type": "code",
   "execution_count": 34,
   "id": "ed8a2bcb",
   "metadata": {},
   "outputs": [
    {
     "name": "stdout",
     "output_type": "stream",
     "text": [
      "['sunday', 'monday', 'tuesday', 'wednesday', 'thursday']\n"
     ]
    }
   ],
   "source": [
    "#copy() method: returns a shallow copy of the list\n",
    "\n",
    "list_one = ['sunday', 'monday', 'tuesday', 'wednesday', 'thursday']\n",
    "list_four = list_one.copy()\n",
    "\n",
    "print(list_four)"
   ]
  },
  {
   "cell_type": "code",
   "execution_count": 35,
   "id": "cfce931e",
   "metadata": {},
   "outputs": [
    {
     "name": "stdout",
     "output_type": "stream",
     "text": [
      "True\n"
     ]
    }
   ],
   "source": [
    "#membership: check if an item exists in a list or not, using the keyword in\n",
    "\n",
    "list_one = ['sunday', 'monday', 'tuesday', 'wednesday', 'thursday']\n",
    "\n",
    "print('wednesday' in list_one)"
   ]
  },
  {
   "cell_type": "code",
   "execution_count": null,
   "id": "0b43f91d",
   "metadata": {},
   "outputs": [],
   "source": []
  }
 ],
 "metadata": {
  "kernelspec": {
   "display_name": "Python 3 (ipykernel)",
   "language": "python",
   "name": "python3"
  },
  "language_info": {
   "codemirror_mode": {
    "name": "ipython",
    "version": 3
   },
   "file_extension": ".py",
   "mimetype": "text/x-python",
   "name": "python",
   "nbconvert_exporter": "python",
   "pygments_lexer": "ipython3",
   "version": "3.9.13"
  }
 },
 "nbformat": 4,
 "nbformat_minor": 5
}
