{
 "cells": [
  {
   "cell_type": "code",
   "execution_count": 2,
   "id": "1d82884f",
   "metadata": {},
   "outputs": [],
   "source": [
    "name = 'Owolabi'"
   ]
  },
  {
   "cell_type": "code",
   "execution_count": 3,
   "id": "f687eb2d",
   "metadata": {},
   "outputs": [
    {
     "data": {
      "text/plain": [
       "'Owolabi'"
      ]
     },
     "execution_count": 3,
     "metadata": {},
     "output_type": "execute_result"
    }
   ],
   "source": [
    "name"
   ]
  }
 ],
 "metadata": {
  "kernelspec": {
   "display_name": "Python 3 (ipykernel)",
   "language": "python",
   "name": "python3"
  },
  "language_info": {
   "codemirror_mode": {
    "name": "ipython",
    "version": 3
   },
   "file_extension": ".py",
   "mimetype": "text/x-python",
   "name": "python",
   "nbconvert_exporter": "python",
   "pygments_lexer": "ipython3",
   "version": "3.9.13"
  }
 },
 "nbformat": 4,
 "nbformat_minor": 5
}
