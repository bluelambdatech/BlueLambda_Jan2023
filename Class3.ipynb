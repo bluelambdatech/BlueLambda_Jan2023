{
 "cells": [
  {
   "cell_type": "code",
   "execution_count": 1,
   "id": "dd3d9752",
   "metadata": {},
   "outputs": [],
   "source": [
    "name = \"Concept Tutors\""
   ]
  },
  {
   "cell_type": "markdown",
   "id": "87641bca",
   "metadata": {},
   "source": [
    "List in Python\n"
   ]
  },
  {
   "cell_type": "code",
   "execution_count": 2,
   "id": "19571a27",
   "metadata": {},
   "outputs": [],
   "source": [
    "list_of_names = [\"Concept\", 123, \"Tutors\"]"
   ]
  },
  {
   "cell_type": "code",
   "execution_count": 3,
   "id": "8f76a225",
   "metadata": {},
   "outputs": [],
   "source": [
    "list_of_names.append(\"Masaba\")"
   ]
  },
  {
   "cell_type": "code",
   "execution_count": 4,
   "id": "e45d7894",
   "metadata": {},
   "outputs": [
    {
     "data": {
      "text/plain": [
       "['Concept', 123, 'Tutors', 'Masaba']"
      ]
     },
     "execution_count": 4,
     "metadata": {},
     "output_type": "execute_result"
    }
   ],
   "source": [
    "list_of_names"
   ]
  },
  {
   "cell_type": "markdown",
   "id": "bf4b1a89",
   "metadata": {},
   "source": [
    "Append will always add at the back of what you already have"
   ]
  },
  {
   "cell_type": "code",
   "execution_count": 5,
   "id": "56f11ae4",
   "metadata": {},
   "outputs": [],
   "source": [
    "list_of_names.append(name)"
   ]
  },
  {
   "cell_type": "code",
   "execution_count": 6,
   "id": "49a9ed4b",
   "metadata": {},
   "outputs": [
    {
     "data": {
      "text/plain": [
       "['Concept', 123, 'Tutors', 'Masaba', 'Concept Tutors']"
      ]
     },
     "execution_count": 6,
     "metadata": {},
     "output_type": "execute_result"
    }
   ],
   "source": [
    "list_of_names"
   ]
  },
  {
   "cell_type": "markdown",
   "id": "08c5c9e1",
   "metadata": {},
   "source": [
    "Note: Read about using kermel case e.g List_of_name"
   ]
  },
  {
   "cell_type": "code",
   "execution_count": 7,
   "id": "17b7cb5c",
   "metadata": {},
   "outputs": [],
   "source": [
    "list_of_nums = [1,2,3,4,5,6]"
   ]
  },
  {
   "cell_type": "code",
   "execution_count": 8,
   "id": "7c186772",
   "metadata": {},
   "outputs": [],
   "source": [
    "list_of_names.extend(list_of_names)"
   ]
  },
  {
   "cell_type": "code",
   "execution_count": 9,
   "id": "9958c6c8",
   "metadata": {},
   "outputs": [
    {
     "data": {
      "text/plain": [
       "['Concept',\n",
       " 123,\n",
       " 'Tutors',\n",
       " 'Masaba',\n",
       " 'Concept Tutors',\n",
       " 'Concept',\n",
       " 123,\n",
       " 'Tutors',\n",
       " 'Masaba',\n",
       " 'Concept Tutors']"
      ]
     },
     "execution_count": 9,
     "metadata": {},
     "output_type": "execute_result"
    }
   ],
   "source": [
    "list_of_names"
   ]
  },
  {
   "cell_type": "code",
   "execution_count": 10,
   "id": "7f13ed23",
   "metadata": {},
   "outputs": [],
   "source": [
    "list_of_names.extend(list_of_nums)"
   ]
  },
  {
   "cell_type": "markdown",
   "id": "2aae3d30",
   "metadata": {},
   "source": [
    "What if you want to pick 5 from list of nums and insert it into list of names; rerun list of names"
   ]
  },
  {
   "cell_type": "code",
   "execution_count": 11,
   "id": "eb581223",
   "metadata": {},
   "outputs": [],
   "source": [
    "list_of_names = [\"Concept\", 123, \"Tutors\"]"
   ]
  },
  {
   "cell_type": "code",
   "execution_count": 13,
   "id": "dcd9e443",
   "metadata": {},
   "outputs": [
    {
     "data": {
      "text/plain": [
       "['Concept', 123, 'Tutors']"
      ]
     },
     "execution_count": 13,
     "metadata": {},
     "output_type": "execute_result"
    }
   ],
   "source": [
    "list_of_names"
   ]
  },
  {
   "cell_type": "code",
   "execution_count": 14,
   "id": "edb894f8",
   "metadata": {},
   "outputs": [
    {
     "data": {
      "text/plain": [
       "[1, 2, 3, 4, 5, 6]"
      ]
     },
     "execution_count": 14,
     "metadata": {},
     "output_type": "execute_result"
    }
   ],
   "source": [
    "list_of_nums"
   ]
  },
  {
   "cell_type": "code",
   "execution_count": 15,
   "id": "7ae46cfc",
   "metadata": {},
   "outputs": [
    {
     "data": {
      "text/plain": [
       "5"
      ]
     },
     "execution_count": 15,
     "metadata": {},
     "output_type": "execute_result"
    }
   ],
   "source": [
    "list_of_nums[4]"
   ]
  },
  {
   "cell_type": "code",
   "execution_count": 16,
   "id": "bf3194bf",
   "metadata": {},
   "outputs": [],
   "source": [
    "list_of_names.insert(1, list_of_nums[4])"
   ]
  },
  {
   "cell_type": "markdown",
   "id": "cd882052",
   "metadata": {},
   "source": [
    "list_of_names.insert( - if you press shift tab you will get more information on how to use it"
   ]
  },
  {
   "cell_type": "code",
   "execution_count": 17,
   "id": "6423eb3a",
   "metadata": {},
   "outputs": [
    {
     "data": {
      "text/plain": [
       "['Concept', 5, 123, 'Tutors']"
      ]
     },
     "execution_count": 17,
     "metadata": {},
     "output_type": "execute_result"
    }
   ],
   "source": [
    "list_of_names"
   ]
  },
  {
   "cell_type": "code",
   "execution_count": 18,
   "id": "ec11417c",
   "metadata": {},
   "outputs": [],
   "source": [
    "list_of_names.append('Polo')"
   ]
  },
  {
   "cell_type": "code",
   "execution_count": 19,
   "id": "30bcba32",
   "metadata": {},
   "outputs": [
    {
     "data": {
      "text/plain": [
       "['Concept', 5, 123, 'Tutors', 'Polo']"
      ]
     },
     "execution_count": 19,
     "metadata": {},
     "output_type": "execute_result"
    }
   ],
   "source": [
    "list_of_names"
   ]
  },
  {
   "cell_type": "markdown",
   "id": "07f34a4e",
   "metadata": {},
   "source": [
    "Pop - You need to know the index"
   ]
  },
  {
   "cell_type": "code",
   "execution_count": 20,
   "id": "cfe454c3",
   "metadata": {},
   "outputs": [
    {
     "data": {
      "text/plain": [
       "123"
      ]
     },
     "execution_count": 20,
     "metadata": {},
     "output_type": "execute_result"
    }
   ],
   "source": [
    "list_of_names.pop(2)"
   ]
  },
  {
   "cell_type": "code",
   "execution_count": 21,
   "id": "72c948c5",
   "metadata": {},
   "outputs": [
    {
     "data": {
      "text/plain": [
       "['Concept', 5, 'Tutors', 'Polo']"
      ]
     },
     "execution_count": 21,
     "metadata": {},
     "output_type": "execute_result"
    }
   ],
   "source": [
    "list_of_names"
   ]
  },
  {
   "cell_type": "code",
   "execution_count": 22,
   "id": "1cd4d8a2",
   "metadata": {},
   "outputs": [],
   "source": [
    "list_of_names.remove(\"Concept\")"
   ]
  },
  {
   "cell_type": "code",
   "execution_count": 23,
   "id": "d167e2de",
   "metadata": {},
   "outputs": [
    {
     "data": {
      "text/plain": [
       "[5, 'Tutors', 'Polo']"
      ]
     },
     "execution_count": 23,
     "metadata": {},
     "output_type": "execute_result"
    }
   ],
   "source": [
    "list_of_names"
   ]
  },
  {
   "cell_type": "code",
   "execution_count": 24,
   "id": "75b0b7f7",
   "metadata": {},
   "outputs": [
    {
     "data": {
      "text/plain": [
       "0"
      ]
     },
     "execution_count": 24,
     "metadata": {},
     "output_type": "execute_result"
    }
   ],
   "source": [
    "list_of_names.count(2)"
   ]
  },
  {
   "cell_type": "code",
   "execution_count": 25,
   "id": "8433671d",
   "metadata": {},
   "outputs": [
    {
     "data": {
      "text/plain": [
       "3"
      ]
     },
     "execution_count": 25,
     "metadata": {},
     "output_type": "execute_result"
    }
   ],
   "source": [
    "len(list_of_names)"
   ]
  },
  {
   "cell_type": "code",
   "execution_count": 26,
   "id": "b89608f2",
   "metadata": {},
   "outputs": [
    {
     "data": {
      "text/plain": [
       "14"
      ]
     },
     "execution_count": 26,
     "metadata": {},
     "output_type": "execute_result"
    }
   ],
   "source": [
    "len(name)"
   ]
  },
  {
   "cell_type": "markdown",
   "id": "a5974b28",
   "metadata": {},
   "source": [
    "len(20000) - You cannot iterate over an integer BUT you can iterate over a LIST"
   ]
  },
  {
   "cell_type": "markdown",
   "id": "8f826912",
   "metadata": {},
   "source": [
    "Dictionary - Something you can change is a mutable object; imutable is something you cannot change"
   ]
  },
  {
   "cell_type": "markdown",
   "id": "bf55f866",
   "metadata": {},
   "source": [
    "Turple"
   ]
  },
  {
   "cell_type": "code",
   "execution_count": 28,
   "id": "05d51be9",
   "metadata": {},
   "outputs": [],
   "source": [
    "tp = (1,2,3)"
   ]
  },
  {
   "cell_type": "code",
   "execution_count": 29,
   "id": "1fd0d578",
   "metadata": {},
   "outputs": [
    {
     "data": {
      "text/plain": [
       "tuple"
      ]
     },
     "execution_count": 29,
     "metadata": {},
     "output_type": "execute_result"
    }
   ],
   "source": [
    "type(tp)"
   ]
  },
  {
   "cell_type": "code",
   "execution_count": 30,
   "id": "25eab464",
   "metadata": {},
   "outputs": [
    {
     "data": {
      "text/plain": [
       "list"
      ]
     },
     "execution_count": 30,
     "metadata": {},
     "output_type": "execute_result"
    }
   ],
   "source": [
    "type(list_of_names)"
   ]
  },
  {
   "cell_type": "code",
   "execution_count": 31,
   "id": "be5c54b2",
   "metadata": {},
   "outputs": [
    {
     "data": {
      "text/plain": [
       "1"
      ]
     },
     "execution_count": 31,
     "metadata": {},
     "output_type": "execute_result"
    }
   ],
   "source": [
    "tp.count(2)"
   ]
  },
  {
   "cell_type": "markdown",
   "id": "eaaca6df",
   "metadata": {},
   "source": [
    "Nested List - List inside another list. Nested Dictionary, Nested Function"
   ]
  },
  {
   "cell_type": "markdown",
   "id": "191a25ea",
   "metadata": {},
   "source": [
    "Dictionary - How do you declare a dictionary {key (Key can be a string or another object): Value (Key can be a string or another object)}"
   ]
  },
  {
   "cell_type": "markdown",
   "id": "57d632bf",
   "metadata": {},
   "source": [
    "{key:value}"
   ]
  },
  {
   "cell_type": "code",
   "execution_count": 33,
   "id": "2a2d8b3f",
   "metadata": {},
   "outputs": [],
   "source": [
    "st_cap = {'georgia':'atlanta'}"
   ]
  },
  {
   "cell_type": "code",
   "execution_count": 34,
   "id": "dec5b9c2",
   "metadata": {},
   "outputs": [
    {
     "data": {
      "text/plain": [
       "dict"
      ]
     },
     "execution_count": 34,
     "metadata": {},
     "output_type": "execute_result"
    }
   ],
   "source": [
    "type(st_cap)"
   ]
  },
  {
   "cell_type": "code",
   "execution_count": 35,
   "id": "386a9c14",
   "metadata": {},
   "outputs": [
    {
     "data": {
      "text/plain": [
       "dict_keys(['georgia'])"
      ]
     },
     "execution_count": 35,
     "metadata": {},
     "output_type": "execute_result"
    }
   ],
   "source": [
    "st_cap.keys()"
   ]
  },
  {
   "cell_type": "code",
   "execution_count": 36,
   "id": "edf6f7e4",
   "metadata": {},
   "outputs": [
    {
     "data": {
      "text/plain": [
       "dict_values(['atlanta'])"
      ]
     },
     "execution_count": 36,
     "metadata": {},
     "output_type": "execute_result"
    }
   ],
   "source": [
    "st_cap.values()"
   ]
  },
  {
   "cell_type": "code",
   "execution_count": 37,
   "id": "29e68e84",
   "metadata": {},
   "outputs": [
    {
     "data": {
      "text/plain": [
       "dict_items([('georgia', 'atlanta')])"
      ]
     },
     "execution_count": 37,
     "metadata": {},
     "output_type": "execute_result"
    }
   ],
   "source": [
    "st_cap.items()"
   ]
  },
  {
   "cell_type": "code",
   "execution_count": 38,
   "id": "1076650a",
   "metadata": {},
   "outputs": [
    {
     "data": {
      "text/plain": [
       "{'georgia': 'atlanta'}"
      ]
     },
     "execution_count": 38,
     "metadata": {},
     "output_type": "execute_result"
    }
   ],
   "source": [
    "st_cap"
   ]
  },
  {
   "cell_type": "markdown",
   "id": "51db9b4b",
   "metadata": {},
   "source": [
    "How to populate a Dictionary. Note, there is no append in dictionary"
   ]
  },
  {
   "cell_type": "code",
   "execution_count": 39,
   "id": "3401405b",
   "metadata": {},
   "outputs": [],
   "source": [
    "st_cap['lagos'] = 'ikeja'"
   ]
  },
  {
   "cell_type": "code",
   "execution_count": 40,
   "id": "734a4604",
   "metadata": {},
   "outputs": [
    {
     "data": {
      "text/plain": [
       "{'georgia': 'atlanta', 'lagos': 'ikeja'}"
      ]
     },
     "execution_count": 40,
     "metadata": {},
     "output_type": "execute_result"
    }
   ],
   "source": [
    "st_cap"
   ]
  },
  {
   "cell_type": "code",
   "execution_count": 41,
   "id": "5d77997c",
   "metadata": {},
   "outputs": [
    {
     "data": {
      "text/plain": [
       "dict_keys(['georgia', 'lagos'])"
      ]
     },
     "execution_count": 41,
     "metadata": {},
     "output_type": "execute_result"
    }
   ],
   "source": [
    "st_cap.keys()"
   ]
  },
  {
   "cell_type": "code",
   "execution_count": 42,
   "id": "60eed614",
   "metadata": {},
   "outputs": [
    {
     "data": {
      "text/plain": [
       "dict_values(['atlanta', 'ikeja'])"
      ]
     },
     "execution_count": 42,
     "metadata": {},
     "output_type": "execute_result"
    }
   ],
   "source": [
    "st_cap.values()"
   ]
  },
  {
   "cell_type": "markdown",
   "id": "8b35aeab",
   "metadata": {},
   "source": [
    "In dictionary: there is something called JSON That means a dictionary inside another dictionary. Understand Pandas as well. "
   ]
  },
  {
   "cell_type": "markdown",
   "id": "3963c0bc",
   "metadata": {},
   "source": [
    "There's another thing called CASTING. Casting from one data type to another"
   ]
  },
  {
   "cell_type": "code",
   "execution_count": 43,
   "id": "c5e04cee",
   "metadata": {},
   "outputs": [],
   "source": [
    "num = '2000'"
   ]
  },
  {
   "cell_type": "code",
   "execution_count": 45,
   "id": "2d667aa5",
   "metadata": {},
   "outputs": [
    {
     "data": {
      "text/plain": [
       "str"
      ]
     },
     "execution_count": 45,
     "metadata": {},
     "output_type": "execute_result"
    }
   ],
   "source": [
    "type(num)"
   ]
  },
  {
   "cell_type": "code",
   "execution_count": 46,
   "id": "5a21ef3a",
   "metadata": {},
   "outputs": [],
   "source": [
    "new_num = int(num)"
   ]
  },
  {
   "cell_type": "code",
   "execution_count": 47,
   "id": "a08ca7ac",
   "metadata": {},
   "outputs": [
    {
     "data": {
      "text/plain": [
       "int"
      ]
     },
     "execution_count": 47,
     "metadata": {},
     "output_type": "execute_result"
    }
   ],
   "source": [
    "type(new_num)"
   ]
  },
  {
   "cell_type": "code",
   "execution_count": 48,
   "id": "a89fb670",
   "metadata": {},
   "outputs": [
    {
     "data": {
      "text/plain": [
       "4000"
      ]
     },
     "execution_count": 48,
     "metadata": {},
     "output_type": "execute_result"
    }
   ],
   "source": [
    "new_num + 2000"
   ]
  },
  {
   "cell_type": "code",
   "execution_count": 49,
   "id": "1fb46bd8",
   "metadata": {},
   "outputs": [],
   "source": [
    "name = 'concepts'"
   ]
  },
  {
   "cell_type": "code",
   "execution_count": 50,
   "id": "7f19b566",
   "metadata": {},
   "outputs": [
    {
     "ename": "ValueError",
     "evalue": "invalid literal for int() with base 10: 'concepts'",
     "output_type": "error",
     "traceback": [
      "\u001b[0;31m---------------------------------------------------------------------------\u001b[0m",
      "\u001b[0;31mValueError\u001b[0m                                Traceback (most recent call last)",
      "Input \u001b[0;32mIn [50]\u001b[0m, in \u001b[0;36m<cell line: 1>\u001b[0;34m()\u001b[0m\n\u001b[0;32m----> 1\u001b[0m \u001b[38;5;28;43mint\u001b[39;49m\u001b[43m(\u001b[49m\u001b[43mname\u001b[49m\u001b[43m)\u001b[49m\n",
      "\u001b[0;31mValueError\u001b[0m: invalid literal for int() with base 10: 'concepts'"
     ]
    }
   ],
   "source": [
    "int(name)"
   ]
  },
  {
   "cell_type": "code",
   "execution_count": 51,
   "id": "4d68373d",
   "metadata": {},
   "outputs": [],
   "source": [
    "num = 10"
   ]
  },
  {
   "cell_type": "code",
   "execution_count": 52,
   "id": "39fc128d",
   "metadata": {},
   "outputs": [
    {
     "data": {
      "text/plain": [
       "'10'"
      ]
     },
     "execution_count": 52,
     "metadata": {},
     "output_type": "execute_result"
    }
   ],
   "source": [
    "str(10)"
   ]
  },
  {
   "cell_type": "code",
   "execution_count": 53,
   "id": "889ee1fb",
   "metadata": {},
   "outputs": [
    {
     "data": {
      "text/plain": [
       "'101010'"
      ]
     },
     "execution_count": 53,
     "metadata": {},
     "output_type": "execute_result"
    }
   ],
   "source": [
    "'10' * 3"
   ]
  },
  {
   "cell_type": "code",
   "execution_count": 54,
   "id": "da497a0f",
   "metadata": {},
   "outputs": [
    {
     "data": {
      "text/plain": [
       "dict_keys(['georgia', 'lagos'])"
      ]
     },
     "execution_count": 54,
     "metadata": {},
     "output_type": "execute_result"
    }
   ],
   "source": [
    "st_cap.keys()"
   ]
  },
  {
   "cell_type": "code",
   "execution_count": 56,
   "id": "5a320812",
   "metadata": {},
   "outputs": [
    {
     "data": {
      "text/plain": [
       "dict_keys"
      ]
     },
     "execution_count": 56,
     "metadata": {},
     "output_type": "execute_result"
    }
   ],
   "source": [
    "type(st_cap.keys())"
   ]
  },
  {
   "cell_type": "code",
   "execution_count": 57,
   "id": "8cd23e60",
   "metadata": {},
   "outputs": [
    {
     "data": {
      "text/plain": [
       "['georgia', 'lagos']"
      ]
     },
     "execution_count": 57,
     "metadata": {},
     "output_type": "execute_result"
    }
   ],
   "source": [
    "list(st_cap.keys())"
   ]
  },
  {
   "cell_type": "code",
   "execution_count": 58,
   "id": "3a0daaa3",
   "metadata": {},
   "outputs": [
    {
     "data": {
      "text/plain": [
       "'georgia'"
      ]
     },
     "execution_count": 58,
     "metadata": {},
     "output_type": "execute_result"
    }
   ],
   "source": [
    "list(st_cap.keys())[0]"
   ]
  },
  {
   "cell_type": "markdown",
   "id": "bef268e0",
   "metadata": {},
   "source": [
    "How to get the value of a particular key"
   ]
  },
  {
   "cell_type": "code",
   "execution_count": 59,
   "id": "558d80dd",
   "metadata": {},
   "outputs": [
    {
     "data": {
      "text/plain": [
       "{'georgia': 'atlanta', 'lagos': 'ikeja'}"
      ]
     },
     "execution_count": 59,
     "metadata": {},
     "output_type": "execute_result"
    }
   ],
   "source": [
    "st_cap"
   ]
  },
  {
   "cell_type": "code",
   "execution_count": 60,
   "id": "0b8d586f",
   "metadata": {},
   "outputs": [
    {
     "data": {
      "text/plain": [
       "'ikeja'"
      ]
     },
     "execution_count": 60,
     "metadata": {},
     "output_type": "execute_result"
    }
   ],
   "source": [
    "st_cap['lagos']"
   ]
  },
  {
   "cell_type": "code",
   "execution_count": 61,
   "id": "ed8810b5",
   "metadata": {},
   "outputs": [],
   "source": [
    "st_cap['lagos'] = 'abuja'"
   ]
  },
  {
   "cell_type": "code",
   "execution_count": 62,
   "id": "6c79c395",
   "metadata": {},
   "outputs": [
    {
     "data": {
      "text/plain": [
       "{'georgia': 'atlanta', 'lagos': 'abuja'}"
      ]
     },
     "execution_count": 62,
     "metadata": {},
     "output_type": "execute_result"
    }
   ],
   "source": [
    "st_cap"
   ]
  },
  {
   "cell_type": "markdown",
   "id": "41990860",
   "metadata": {},
   "source": [
    "st_cap['lagos'] can also be written st_cap.get['lagos']"
   ]
  },
  {
   "cell_type": "code",
   "execution_count": 64,
   "id": "a6bd29e4",
   "metadata": {},
   "outputs": [
    {
     "data": {
      "text/plain": [
       "'abuja'"
      ]
     },
     "execution_count": 64,
     "metadata": {},
     "output_type": "execute_result"
    }
   ],
   "source": [
    "st_cap['lagos']"
   ]
  },
  {
   "cell_type": "markdown",
   "id": "ce4ad9ef",
   "metadata": {},
   "source": [
    "st_cap.get['florida', 'Florida key is not found']"
   ]
  },
  {
   "cell_type": "code",
   "execution_count": 65,
   "id": "6f7240d0",
   "metadata": {},
   "outputs": [
    {
     "ename": "KeyError",
     "evalue": "'florida'",
     "output_type": "error",
     "traceback": [
      "\u001b[0;31m---------------------------------------------------------------------------\u001b[0m",
      "\u001b[0;31mKeyError\u001b[0m                                  Traceback (most recent call last)",
      "Input \u001b[0;32mIn [65]\u001b[0m, in \u001b[0;36m<cell line: 1>\u001b[0;34m()\u001b[0m\n\u001b[0;32m----> 1\u001b[0m \u001b[43mst_cap\u001b[49m\u001b[43m[\u001b[49m\u001b[38;5;124;43m'\u001b[39;49m\u001b[38;5;124;43mflorida\u001b[39;49m\u001b[38;5;124;43m'\u001b[39;49m\u001b[43m]\u001b[49m\n",
      "\u001b[0;31mKeyError\u001b[0m: 'florida'"
     ]
    }
   ],
   "source": [
    "st_cap['florida']"
   ]
  },
  {
   "cell_type": "code",
   "execution_count": 66,
   "id": "759660ac",
   "metadata": {},
   "outputs": [
    {
     "ename": "TypeError",
     "evalue": "'builtin_function_or_method' object is not subscriptable",
     "output_type": "error",
     "traceback": [
      "\u001b[0;31m---------------------------------------------------------------------------\u001b[0m",
      "\u001b[0;31mTypeError\u001b[0m                                 Traceback (most recent call last)",
      "Input \u001b[0;32mIn [66]\u001b[0m, in \u001b[0;36m<cell line: 1>\u001b[0;34m()\u001b[0m\n\u001b[0;32m----> 1\u001b[0m \u001b[43mst_cap\u001b[49m\u001b[38;5;241;43m.\u001b[39;49m\u001b[43mget\u001b[49m\u001b[43m[\u001b[49m\u001b[38;5;124;43m'\u001b[39;49m\u001b[38;5;124;43mflorida\u001b[39;49m\u001b[38;5;124;43m'\u001b[39;49m\u001b[43m,\u001b[49m\u001b[43m \u001b[49m\u001b[38;5;124;43m'\u001b[39;49m\u001b[38;5;124;43mFlorida key is not found\u001b[39;49m\u001b[38;5;124;43m'\u001b[39;49m\u001b[43m]\u001b[49m\n",
      "\u001b[0;31mTypeError\u001b[0m: 'builtin_function_or_method' object is not subscriptable"
     ]
    }
   ],
   "source": [
    "st_cap.get['florida', 'Florida key is not found']"
   ]
  },
  {
   "cell_type": "code",
   "execution_count": null,
   "id": "6154f8db",
   "metadata": {},
   "outputs": [],
   "source": []
  }
 ],
 "metadata": {
  "kernelspec": {
   "display_name": "Python 3 (ipykernel)",
   "language": "python",
   "name": "python3"
  },
  "language_info": {
   "codemirror_mode": {
    "name": "ipython",
    "version": 3
   },
   "file_extension": ".py",
   "mimetype": "text/x-python",
   "name": "python",
   "nbconvert_exporter": "python",
   "pygments_lexer": "ipython3",
   "version": "3.9.13"
  }
 },
 "nbformat": 4,
 "nbformat_minor": 5
}
