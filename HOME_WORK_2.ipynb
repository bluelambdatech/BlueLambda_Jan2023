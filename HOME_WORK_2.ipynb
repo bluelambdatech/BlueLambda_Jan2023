{
 "cells": [
  {
   "cell_type": "markdown",
   "id": "4cec4660",
   "metadata": {},
   "source": [
    "# EXERCISE 1:"
   ]
  },
  {
   "cell_type": "code",
   "execution_count": 2,
   "id": "cedef575",
   "metadata": {},
   "outputs": [],
   "source": [
    "def user_profile(x,y):\n",
    "    \n",
    "    user_out= (f\"Your name is {x} and your age is {y}\")\n",
    "    \n",
    "    print(user_out)"
   ]
  },
  {
   "cell_type": "code",
   "execution_count": 4,
   "id": "9f015c79",
   "metadata": {},
   "outputs": [
    {
     "name": "stdout",
     "output_type": "stream",
     "text": [
      "Your name is Owolabi and your age is 21\n"
     ]
    }
   ],
   "source": [
    "user_profile('Owolabi',21)"
   ]
  },
  {
   "cell_type": "markdown",
   "id": "623cbb6a",
   "metadata": {},
   "source": [
    "# EXERCISE 2:"
   ]
  },
  {
   "cell_type": "code",
   "execution_count": 6,
   "id": "cd54d07e",
   "metadata": {},
   "outputs": [],
   "source": [
    "def func1(*x):\n",
    "    \n",
    "    for value in x:\n",
    "        \n",
    "        print(value)"
   ]
  },
  {
   "cell_type": "code",
   "execution_count": 8,
   "id": "9159b0bc",
   "metadata": {},
   "outputs": [
    {
     "name": "stdout",
     "output_type": "stream",
     "text": [
      "20\n",
      "40\n",
      "50\n"
     ]
    }
   ],
   "source": [
    "func1(20,40,50)"
   ]
  },
  {
   "cell_type": "code",
   "execution_count": 36,
   "id": "05cd45de",
   "metadata": {},
   "outputs": [
    {
     "name": "stdout",
     "output_type": "stream",
     "text": [
      "80\n",
      "100\n"
     ]
    }
   ],
   "source": [
    "func1(80,100)"
   ]
  },
  {
   "cell_type": "markdown",
   "id": "7159f98c",
   "metadata": {},
   "source": [
    "# EXERCISE 3:"
   ]
  },
  {
   "cell_type": "code",
   "execution_count": 12,
   "id": "3ecc156f",
   "metadata": {},
   "outputs": [],
   "source": [
    "def calculation(x,y):\n",
    "    calc_add = x + y\n",
    "    calc_sub = x - y\n",
    "    \n",
    "    return(calc_add,calc_sub)"
   ]
  },
  {
   "cell_type": "code",
   "execution_count": 37,
   "id": "fae2217b",
   "metadata": {},
   "outputs": [
    {
     "data": {
      "text/plain": [
       "(50, 30)"
      ]
     },
     "execution_count": 37,
     "metadata": {},
     "output_type": "execute_result"
    }
   ],
   "source": [
    "calculation(40,10)"
   ]
  },
  {
   "cell_type": "markdown",
   "id": "5f34d5cd",
   "metadata": {},
   "source": [
    "# EXERCISE 4: "
   ]
  },
  {
   "cell_type": "code",
   "execution_count": 16,
   "id": "9797448b",
   "metadata": {},
   "outputs": [],
   "source": [
    "def showEmployee(x,y=9000):\n",
    "    emp_out = {}\n",
    "    emp_out['Name'] = x\n",
    "    emp_out['salary']= y\n",
    "    \n",
    "    return emp_out"
   ]
  },
  {
   "cell_type": "code",
   "execution_count": 18,
   "id": "e0621eec",
   "metadata": {},
   "outputs": [
    {
     "data": {
      "text/plain": [
       "{'Name': 'Ben', 'salary': 12000}"
      ]
     },
     "execution_count": 18,
     "metadata": {},
     "output_type": "execute_result"
    }
   ],
   "source": [
    "showEmployee('Ben',12000)"
   ]
  },
  {
   "cell_type": "code",
   "execution_count": 38,
   "id": "8871f709",
   "metadata": {},
   "outputs": [
    {
     "data": {
      "text/plain": [
       "{'Name': 'Jessa', 'salary': 9000}"
      ]
     },
     "execution_count": 38,
     "metadata": {},
     "output_type": "execute_result"
    }
   ],
   "source": [
    "showEmployee('Jessa')"
   ]
  },
  {
   "cell_type": "markdown",
   "id": "b9a09e4b",
   "metadata": {},
   "source": [
    "# EXERCISE 5:"
   ]
  },
  {
   "cell_type": "code",
   "execution_count": 22,
   "id": "a11d18d2",
   "metadata": {},
   "outputs": [],
   "source": [
    "def outFunc(x,y):\n",
    "    def inFunc():\n",
    "        add_res = x + y\n",
    "        return add_res\n",
    "    \n",
    "    return inFunc()+5"
   ]
  },
  {
   "cell_type": "code",
   "execution_count": 39,
   "id": "729e73b8",
   "metadata": {},
   "outputs": [
    {
     "data": {
      "text/plain": [
       "16"
      ]
     },
     "execution_count": 39,
     "metadata": {},
     "output_type": "execute_result"
    }
   ],
   "source": [
    "outFunc(5,6)"
   ]
  },
  {
   "cell_type": "markdown",
   "id": "2485d1c6",
   "metadata": {},
   "source": [
    "# EXERCISE 6: "
   ]
  },
  {
   "cell_type": "code",
   "execution_count": 26,
   "id": "c814413c",
   "metadata": {},
   "outputs": [],
   "source": [
    "def display_student(x,y):\n",
    "    \n",
    "    st_out= (f\"Your name is {x} and your age is {y}\")\n",
    "    \n",
    "    return st_out"
   ]
  },
  {
   "cell_type": "code",
   "execution_count": 40,
   "id": "97b33f9a",
   "metadata": {},
   "outputs": [
    {
     "data": {
      "text/plain": [
       "'Your name is Owolabi and your age is 19'"
      ]
     },
     "execution_count": 40,
     "metadata": {},
     "output_type": "execute_result"
    }
   ],
   "source": [
    "show_student = display_student\n",
    "\n",
    "show_student('Owolabi', 19)"
   ]
  },
  {
   "cell_type": "markdown",
   "id": "8274d3f6",
   "metadata": {},
   "source": [
    "# EXERCISE 7:"
   ]
  },
  {
   "cell_type": "code",
   "execution_count": 30,
   "id": "867b9063",
   "metadata": {},
   "outputs": [],
   "source": [
    "def even_list(x,y):\n",
    "   \n",
    "    even_list = []\n",
    "    \n",
    "    even_list =[idx for idx in range(x,y+1) if (idx % 2) == 0]\n",
    "                             \n",
    "    return even_list"
   ]
  },
  {
   "cell_type": "code",
   "execution_count": 41,
   "id": "60d18287",
   "metadata": {},
   "outputs": [
    {
     "data": {
      "text/plain": [
       "[4, 6, 8, 10, 12, 14, 16, 18, 20, 22, 24, 26, 28, 30]"
      ]
     },
     "execution_count": 41,
     "metadata": {},
     "output_type": "execute_result"
    }
   ],
   "source": [
    "even_list(4,30)"
   ]
  },
  {
   "cell_type": "markdown",
   "id": "814deda9",
   "metadata": {},
   "source": [
    "# EXERCISE 8:"
   ]
  },
  {
   "cell_type": "code",
   "execution_count": 34,
   "id": "26eef3ef",
   "metadata": {},
   "outputs": [],
   "source": [
    "def largest_item(x):\n",
    "    \n",
    "    max_value = max(x)\n",
    "            \n",
    "    return max_value"
   ]
  },
  {
   "cell_type": "code",
   "execution_count": 35,
   "id": "5b32ede6",
   "metadata": {},
   "outputs": [
    {
     "data": {
      "text/plain": [
       "24"
      ]
     },
     "execution_count": 35,
     "metadata": {},
     "output_type": "execute_result"
    }
   ],
   "source": [
    "x = [4,6,8,24,12,2]\n",
    "\n",
    "largest_item(x)"
   ]
  }
 ],
 "metadata": {
  "kernelspec": {
   "display_name": "Python 3 (ipykernel)",
   "language": "python",
   "name": "python3"
  },
  "language_info": {
   "codemirror_mode": {
    "name": "ipython",
    "version": 3
   },
   "file_extension": ".py",
   "mimetype": "text/x-python",
   "name": "python",
   "nbconvert_exporter": "python",
   "pygments_lexer": "ipython3",
   "version": "3.9.13"
  }
 },
 "nbformat": 4,
 "nbformat_minor": 5
}
