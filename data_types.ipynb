{
 "cells": [
  {
   "cell_type": "markdown",
   "id": "a8ea42e4",
   "metadata": {},
   "source": [
    "### Data Types"
   ]
  },
  {
   "cell_type": "code",
   "execution_count": 2,
   "id": "77f83a18",
   "metadata": {},
   "outputs": [
    {
     "data": {
      "text/plain": [
       "'Hello World'"
      ]
     },
     "execution_count": 2,
     "metadata": {},
     "output_type": "execute_result"
    }
   ],
   "source": [
    "\"Hello World\""
   ]
  },
  {
   "cell_type": "code",
   "execution_count": 9,
   "id": "801c5b3a",
   "metadata": {},
   "outputs": [],
   "source": [
    "num = \"100\""
   ]
  },
  {
   "cell_type": "code",
   "execution_count": 10,
   "id": "3cda7c93",
   "metadata": {},
   "outputs": [
    {
     "data": {
      "text/plain": [
       "'100'"
      ]
     },
     "execution_count": 10,
     "metadata": {},
     "output_type": "execute_result"
    }
   ],
   "source": [
    "num"
   ]
  },
  {
   "cell_type": "code",
   "execution_count": 11,
   "id": "cd1f0222",
   "metadata": {},
   "outputs": [
    {
     "name": "stdout",
     "output_type": "stream",
     "text": [
      "100\n"
     ]
    }
   ],
   "source": [
    "print(num)"
   ]
  },
  {
   "cell_type": "code",
   "execution_count": 12,
   "id": "e1f48aea",
   "metadata": {},
   "outputs": [
    {
     "data": {
      "text/plain": [
       "str"
      ]
     },
     "execution_count": 12,
     "metadata": {},
     "output_type": "execute_result"
    }
   ],
   "source": [
    "type(num)"
   ]
  },
  {
   "cell_type": "code",
   "execution_count": 14,
   "id": "8c422c0d",
   "metadata": {},
   "outputs": [],
   "source": [
    "name = \"Mary Anne Moore\""
   ]
  },
  {
   "cell_type": "code",
   "execution_count": 15,
   "id": "47d58145",
   "metadata": {},
   "outputs": [
    {
     "data": {
      "text/plain": [
       "'Mary Anne Moore'"
      ]
     },
     "execution_count": 15,
     "metadata": {},
     "output_type": "execute_result"
    }
   ],
   "source": [
    "name"
   ]
  },
  {
   "cell_type": "code",
   "execution_count": 17,
   "id": "77f95e4f",
   "metadata": {},
   "outputs": [
    {
     "data": {
      "text/plain": [
       "'Mary anne moore'"
      ]
     },
     "execution_count": 17,
     "metadata": {},
     "output_type": "execute_result"
    }
   ],
   "source": [
    "name.capitalize()"
   ]
  },
  {
   "cell_type": "code",
   "execution_count": 19,
   "id": "40d2a98a",
   "metadata": {},
   "outputs": [
    {
     "data": {
      "text/plain": [
       "False"
      ]
     },
     "execution_count": 19,
     "metadata": {},
     "output_type": "execute_result"
    }
   ],
   "source": [
    "name.isupper()"
   ]
  },
  {
   "cell_type": "code",
   "execution_count": 20,
   "id": "5a2071f5",
   "metadata": {},
   "outputs": [
    {
     "data": {
      "text/plain": [
       "'MARY ANNE MOORE'"
      ]
     },
     "execution_count": 20,
     "metadata": {},
     "output_type": "execute_result"
    }
   ],
   "source": [
    "name.upper()"
   ]
  },
  {
   "cell_type": "code",
   "execution_count": 22,
   "id": "85002e53",
   "metadata": {},
   "outputs": [
    {
     "data": {
      "text/plain": [
       "'Mary Anne Moore'"
      ]
     },
     "execution_count": 22,
     "metadata": {},
     "output_type": "execute_result"
    }
   ],
   "source": [
    "name. title()"
   ]
  },
  {
   "cell_type": "code",
   "execution_count": 23,
   "id": "fcbd72ab",
   "metadata": {},
   "outputs": [
    {
     "data": {
      "text/plain": [
       "False"
      ]
     },
     "execution_count": 23,
     "metadata": {},
     "output_type": "execute_result"
    }
   ],
   "source": [
    "name.islower()"
   ]
  },
  {
   "cell_type": "code",
   "execution_count": 28,
   "id": "6cad9895",
   "metadata": {},
   "outputs": [
    {
     "data": {
      "text/plain": [
       "2"
      ]
     },
     "execution_count": 28,
     "metadata": {},
     "output_type": "execute_result"
    }
   ],
   "source": [
    "name.count(\"n\")"
   ]
  },
  {
   "cell_type": "code",
   "execution_count": null,
   "id": "3fac2f39",
   "metadata": {},
   "outputs": [],
   "source": [
    "### split"
   ]
  },
  {
   "cell_type": "code",
   "execution_count": 29,
   "id": "90221f2e",
   "metadata": {},
   "outputs": [
    {
     "data": {
      "text/plain": [
       "['Mary', 'Anne', 'Moore']"
      ]
     },
     "execution_count": 29,
     "metadata": {},
     "output_type": "execute_result"
    }
   ],
   "source": [
    "name.split()"
   ]
  },
  {
   "cell_type": "code",
   "execution_count": 32,
   "id": "4b7c9d4c",
   "metadata": {},
   "outputs": [
    {
     "data": {
      "text/plain": [
       "['Mary A', '', 'e Moore']"
      ]
     },
     "execution_count": 32,
     "metadata": {},
     "output_type": "execute_result"
    }
   ],
   "source": [
    "name.split(\"n\")"
   ]
  },
  {
   "cell_type": "code",
   "execution_count": 33,
   "id": "7dd5e409",
   "metadata": {},
   "outputs": [],
   "source": [
    "date = \"07/07/2023\""
   ]
  },
  {
   "cell_type": "code",
   "execution_count": 35,
   "id": "872b7a30",
   "metadata": {},
   "outputs": [
    {
     "data": {
      "text/plain": [
       "['07', '07', '2023']"
      ]
     },
     "execution_count": 35,
     "metadata": {},
     "output_type": "execute_result"
    }
   ],
   "source": [
    "date.split(\"/\")"
   ]
  },
  {
   "cell_type": "code",
   "execution_count": 36,
   "id": "afdb8604",
   "metadata": {},
   "outputs": [],
   "source": [
    "sp = date.split(\"/\")"
   ]
  },
  {
   "cell_type": "code",
   "execution_count": 37,
   "id": "93a8a0a4",
   "metadata": {},
   "outputs": [
    {
     "data": {
      "text/plain": [
       "'07-07-2023'"
      ]
     },
     "execution_count": 37,
     "metadata": {},
     "output_type": "execute_result"
    }
   ],
   "source": [
    "\"-\".join([sp[1],sp[0],sp[2]])"
   ]
  },
  {
   "cell_type": "code",
   "execution_count": 38,
   "id": "956e7159",
   "metadata": {},
   "outputs": [
    {
     "data": {
      "text/plain": [
       "'Mary Anne Moore'"
      ]
     },
     "execution_count": 38,
     "metadata": {},
     "output_type": "execute_result"
    }
   ],
   "source": [
    "name"
   ]
  },
  {
   "cell_type": "code",
   "execution_count": 39,
   "id": "3f656996",
   "metadata": {},
   "outputs": [],
   "source": [
    "### splice"
   ]
  },
  {
   "cell_type": "code",
   "execution_count": 40,
   "id": "df6cbcae",
   "metadata": {},
   "outputs": [
    {
     "data": {
      "text/plain": [
       "'e'"
      ]
     },
     "execution_count": 40,
     "metadata": {},
     "output_type": "execute_result"
    }
   ],
   "source": [
    "name[-1]"
   ]
  },
  {
   "cell_type": "code",
   "execution_count": 41,
   "id": "9598ea87",
   "metadata": {},
   "outputs": [
    {
     "data": {
      "text/plain": [
       "'M'"
      ]
     },
     "execution_count": 41,
     "metadata": {},
     "output_type": "execute_result"
    }
   ],
   "source": [
    "name[0]"
   ]
  },
  {
   "cell_type": "code",
   "execution_count": 42,
   "id": "5a02cf5c",
   "metadata": {},
   "outputs": [
    {
     "data": {
      "text/plain": [
       "'r'"
      ]
     },
     "execution_count": 42,
     "metadata": {},
     "output_type": "execute_result"
    }
   ],
   "source": [
    "name[-2]"
   ]
  },
  {
   "cell_type": "code",
   "execution_count": 43,
   "id": "01b54edf",
   "metadata": {},
   "outputs": [
    {
     "data": {
      "text/plain": [
       "'Mr neMoe'"
      ]
     },
     "execution_count": 43,
     "metadata": {},
     "output_type": "execute_result"
    }
   ],
   "source": [
    "name[0:15:2]"
   ]
  },
  {
   "cell_type": "code",
   "execution_count": 44,
   "id": "2dae9dd9",
   "metadata": {},
   "outputs": [
    {
     "data": {
      "text/plain": [
       "'Mr neMo'"
      ]
     },
     "execution_count": 44,
     "metadata": {},
     "output_type": "execute_result"
    }
   ],
   "source": [
    "name[0:-1:2]"
   ]
  },
  {
   "cell_type": "code",
   "execution_count": 45,
   "id": "7595809f",
   "metadata": {},
   "outputs": [
    {
     "data": {
      "text/plain": [
       "'Mary Anne Moore'"
      ]
     },
     "execution_count": 45,
     "metadata": {},
     "output_type": "execute_result"
    }
   ],
   "source": [
    "name[0:15]"
   ]
  },
  {
   "cell_type": "code",
   "execution_count": 46,
   "id": "4730d58b",
   "metadata": {},
   "outputs": [
    {
     "data": {
      "text/plain": [
       "'Myn o'"
      ]
     },
     "execution_count": 46,
     "metadata": {},
     "output_type": "execute_result"
    }
   ],
   "source": [
    "name[::3]"
   ]
  },
  {
   "cell_type": "code",
   "execution_count": 47,
   "id": "a168b015",
   "metadata": {},
   "outputs": [
    {
     "data": {
      "text/plain": [
       "'erooM ennA yraM'"
      ]
     },
     "execution_count": 47,
     "metadata": {},
     "output_type": "execute_result"
    }
   ],
   "source": [
    "name[::-1]"
   ]
  },
  {
   "cell_type": "code",
   "execution_count": 48,
   "id": "f8b5c11e",
   "metadata": {},
   "outputs": [
    {
     "data": {
      "text/plain": [
       "'mARY aNNE mOORE'"
      ]
     },
     "execution_count": 48,
     "metadata": {},
     "output_type": "execute_result"
    }
   ],
   "source": [
    "name.swapcase()"
   ]
  },
  {
   "cell_type": "code",
   "execution_count": 2,
   "id": "6c1a4176",
   "metadata": {},
   "outputs": [],
   "source": [
    "### list"
   ]
  },
  {
   "cell_type": "code",
   "execution_count": 5,
   "id": "be59536c",
   "metadata": {},
   "outputs": [],
   "source": [
    "name = \"Mary Anne Brown\""
   ]
  },
  {
   "cell_type": "code",
   "execution_count": 28,
   "id": "2696b50d",
   "metadata": {},
   "outputs": [],
   "source": [
    "list_of_names = [\"Mary\", \"Michael\", \"Paul\", \"Sarah\"]"
   ]
  },
  {
   "cell_type": "code",
   "execution_count": 29,
   "id": "f6ed211e",
   "metadata": {},
   "outputs": [
    {
     "data": {
      "text/plain": [
       "['Mary', 'Michael', 'Paul', 'Sarah']"
      ]
     },
     "execution_count": 29,
     "metadata": {},
     "output_type": "execute_result"
    }
   ],
   "source": [
    "list_of_names"
   ]
  },
  {
   "cell_type": "code",
   "execution_count": 11,
   "id": "ad73e9c3",
   "metadata": {},
   "outputs": [],
   "source": [
    "list_of_names.append (\"Elizabeth\")"
   ]
  },
  {
   "cell_type": "code",
   "execution_count": 12,
   "id": "7c3d1409",
   "metadata": {},
   "outputs": [
    {
     "data": {
      "text/plain": [
       "['Mary', 'Michael', 'Paul', 'Sarah', 'Elizabeth']"
      ]
     },
     "execution_count": 12,
     "metadata": {},
     "output_type": "execute_result"
    }
   ],
   "source": [
    "list_of_names"
   ]
  },
  {
   "cell_type": "code",
   "execution_count": 19,
   "id": "0c7112be",
   "metadata": {},
   "outputs": [],
   "source": [
    "list_of_names.append (\"Bella\")"
   ]
  },
  {
   "cell_type": "code",
   "execution_count": 15,
   "id": "8c80ea23",
   "metadata": {},
   "outputs": [
    {
     "data": {
      "text/plain": [
       "['Mary', 'Michael', 'Paul', 'Sarah', 'Elizabeth', 'Bella']"
      ]
     },
     "execution_count": 15,
     "metadata": {},
     "output_type": "execute_result"
    }
   ],
   "source": [
    "list_of_names"
   ]
  },
  {
   "cell_type": "code",
   "execution_count": 17,
   "id": "348d61f8",
   "metadata": {},
   "outputs": [
    {
     "data": {
      "text/plain": [
       "1"
      ]
     },
     "execution_count": 17,
     "metadata": {},
     "output_type": "execute_result"
    }
   ],
   "source": [
    "list_of_names.count(\"Mary\")"
   ]
  },
  {
   "cell_type": "code",
   "execution_count": 31,
   "id": "0083743e",
   "metadata": {},
   "outputs": [],
   "source": [
    "list_of_nums = [1,2,3,4,5,6,7,8]"
   ]
  },
  {
   "cell_type": "code",
   "execution_count": 21,
   "id": "3bd44cad",
   "metadata": {},
   "outputs": [
    {
     "data": {
      "text/plain": [
       "[1, 2, 3, 4, 5, 6, 7, 8]"
      ]
     },
     "execution_count": 21,
     "metadata": {},
     "output_type": "execute_result"
    }
   ],
   "source": [
    "list_of_nums"
   ]
  },
  {
   "cell_type": "code",
   "execution_count": 22,
   "id": "26d44600",
   "metadata": {},
   "outputs": [],
   "source": [
    "list_of_names.extend(list_of_nums)"
   ]
  },
  {
   "cell_type": "code",
   "execution_count": 23,
   "id": "97330961",
   "metadata": {},
   "outputs": [
    {
     "data": {
      "text/plain": [
       "['Mary',\n",
       " 'Michael',\n",
       " 'Paul',\n",
       " 'Sarah',\n",
       " 'Elizabeth',\n",
       " 'Bella',\n",
       " 'Bella',\n",
       " 1,\n",
       " 2,\n",
       " 3,\n",
       " 4,\n",
       " 5,\n",
       " 6,\n",
       " 7,\n",
       " 8]"
      ]
     },
     "execution_count": 23,
     "metadata": {},
     "output_type": "execute_result"
    }
   ],
   "source": [
    "list_of_names"
   ]
  },
  {
   "cell_type": "code",
   "execution_count": 25,
   "id": "1421ee0d",
   "metadata": {},
   "outputs": [],
   "source": [
    "list_of_names.insert(3,list_of_nums)"
   ]
  },
  {
   "cell_type": "code",
   "execution_count": 26,
   "id": "042c655d",
   "metadata": {},
   "outputs": [
    {
     "data": {
      "text/plain": [
       "['Mary',\n",
       " 'Michael',\n",
       " 'Paul',\n",
       " [1, 2, 3, 4, 5, 6, 7, 8],\n",
       " 'Sarah',\n",
       " 'Elizabeth',\n",
       " 'Bella',\n",
       " 'Bella',\n",
       " 1,\n",
       " 2,\n",
       " 3,\n",
       " 4,\n",
       " 5,\n",
       " 6,\n",
       " 7,\n",
       " 8]"
      ]
     },
     "execution_count": 26,
     "metadata": {},
     "output_type": "execute_result"
    }
   ],
   "source": [
    "list_of_names"
   ]
  },
  {
   "cell_type": "code",
   "execution_count": 30,
   "id": "0bd65004",
   "metadata": {},
   "outputs": [
    {
     "data": {
      "text/plain": [
       "['Mary', 'Michael', 'Paul', 'Sarah']"
      ]
     },
     "execution_count": 30,
     "metadata": {},
     "output_type": "execute_result"
    }
   ],
   "source": [
    "list_of_names"
   ]
  },
  {
   "cell_type": "code",
   "execution_count": 32,
   "id": "66cc172e",
   "metadata": {},
   "outputs": [
    {
     "data": {
      "text/plain": [
       "[1, 2, 3, 4, 5, 6, 7, 8]"
      ]
     },
     "execution_count": 32,
     "metadata": {},
     "output_type": "execute_result"
    }
   ],
   "source": [
    "list_of_nums"
   ]
  },
  {
   "cell_type": "code",
   "execution_count": 34,
   "id": "8a506340",
   "metadata": {},
   "outputs": [
    {
     "data": {
      "text/plain": [
       "4"
      ]
     },
     "execution_count": 34,
     "metadata": {},
     "output_type": "execute_result"
    }
   ],
   "source": [
    "list_of_nums[3]"
   ]
  },
  {
   "cell_type": "code",
   "execution_count": 35,
   "id": "b3c7ac7a",
   "metadata": {},
   "outputs": [],
   "source": [
    "list_of_names.insert(2,list_of_nums[3])"
   ]
  },
  {
   "cell_type": "code",
   "execution_count": 36,
   "id": "d509fc21",
   "metadata": {},
   "outputs": [
    {
     "data": {
      "text/plain": [
       "['Mary', 'Michael', 4, 'Paul', 'Sarah']"
      ]
     },
     "execution_count": 36,
     "metadata": {},
     "output_type": "execute_result"
    }
   ],
   "source": [
    "list_of_names"
   ]
  },
  {
   "cell_type": "code",
   "execution_count": 37,
   "id": "a381f1bb",
   "metadata": {},
   "outputs": [
    {
     "data": {
      "text/plain": [
       "4"
      ]
     },
     "execution_count": 37,
     "metadata": {},
     "output_type": "execute_result"
    }
   ],
   "source": [
    "list_of_names.pop(2)"
   ]
  },
  {
   "cell_type": "code",
   "execution_count": 38,
   "id": "489bdcae",
   "metadata": {},
   "outputs": [
    {
     "data": {
      "text/plain": [
       "['Mary', 'Michael', 'Paul', 'Sarah']"
      ]
     },
     "execution_count": 38,
     "metadata": {},
     "output_type": "execute_result"
    }
   ],
   "source": [
    "list_of_names"
   ]
  },
  {
   "cell_type": "code",
   "execution_count": 39,
   "id": "2aea4649",
   "metadata": {},
   "outputs": [],
   "source": [
    "list_of_names.remove(\"Paul\")"
   ]
  },
  {
   "cell_type": "code",
   "execution_count": 40,
   "id": "0455e74f",
   "metadata": {},
   "outputs": [
    {
     "data": {
      "text/plain": [
       "['Mary', 'Michael', 'Sarah']"
      ]
     },
     "execution_count": 40,
     "metadata": {},
     "output_type": "execute_result"
    }
   ],
   "source": [
    "list_of_names"
   ]
  },
  {
   "cell_type": "code",
   "execution_count": 41,
   "id": "ad8d8a72",
   "metadata": {},
   "outputs": [],
   "source": [
    "list_of_names.reverse()"
   ]
  },
  {
   "cell_type": "code",
   "execution_count": 42,
   "id": "3f2a3c68",
   "metadata": {},
   "outputs": [
    {
     "data": {
      "text/plain": [
       "['Sarah', 'Michael', 'Mary']"
      ]
     },
     "execution_count": 42,
     "metadata": {},
     "output_type": "execute_result"
    }
   ],
   "source": [
    "list_of_names"
   ]
  },
  {
   "cell_type": "code",
   "execution_count": 45,
   "id": "712eae80",
   "metadata": {},
   "outputs": [
    {
     "data": {
      "text/plain": [
       "3"
      ]
     },
     "execution_count": 45,
     "metadata": {},
     "output_type": "execute_result"
    }
   ],
   "source": [
    "len(list_of_names)"
   ]
  },
  {
   "cell_type": "code",
   "execution_count": 46,
   "id": "006daaad",
   "metadata": {},
   "outputs": [
    {
     "data": {
      "text/plain": [
       "15"
      ]
     },
     "execution_count": 46,
     "metadata": {},
     "output_type": "execute_result"
    }
   ],
   "source": [
    "len(name)"
   ]
  },
  {
   "cell_type": "code",
   "execution_count": 47,
   "id": "3ba0ac85",
   "metadata": {},
   "outputs": [],
   "source": [
    "### tuple"
   ]
  },
  {
   "cell_type": "code",
   "execution_count": 48,
   "id": "6700d103",
   "metadata": {},
   "outputs": [],
   "source": [
    "tp = (1,2,3)"
   ]
  },
  {
   "cell_type": "code",
   "execution_count": 49,
   "id": "742a17d2",
   "metadata": {},
   "outputs": [
    {
     "data": {
      "text/plain": [
       "tuple"
      ]
     },
     "execution_count": 49,
     "metadata": {},
     "output_type": "execute_result"
    }
   ],
   "source": [
    "type(tp)"
   ]
  },
  {
   "cell_type": "code",
   "execution_count": 51,
   "id": "17b8ee00",
   "metadata": {},
   "outputs": [
    {
     "data": {
      "text/plain": [
       "list"
      ]
     },
     "execution_count": 51,
     "metadata": {},
     "output_type": "execute_result"
    }
   ],
   "source": [
    "type(list_of_names)"
   ]
  },
  {
   "cell_type": "code",
   "execution_count": 52,
   "id": "f624b4b7",
   "metadata": {},
   "outputs": [
    {
     "data": {
      "text/plain": [
       "str"
      ]
     },
     "execution_count": 52,
     "metadata": {},
     "output_type": "execute_result"
    }
   ],
   "source": [
    "type(name)"
   ]
  },
  {
   "cell_type": "code",
   "execution_count": 54,
   "id": "9d430e60",
   "metadata": {},
   "outputs": [
    {
     "data": {
      "text/plain": [
       "1"
      ]
     },
     "execution_count": 54,
     "metadata": {},
     "output_type": "execute_result"
    }
   ],
   "source": [
    "tp.count(2)"
   ]
  },
  {
   "cell_type": "code",
   "execution_count": 60,
   "id": "5cc8b38e",
   "metadata": {},
   "outputs": [],
   "source": [
    "### Dictionary"
   ]
  },
  {
   "cell_type": "code",
   "execution_count": 61,
   "id": "8b53d8d1",
   "metadata": {},
   "outputs": [],
   "source": [
    "st_cap = {\"Georgia\": \"Atlanta\"}"
   ]
  },
  {
   "cell_type": "code",
   "execution_count": 62,
   "id": "15df8a1c",
   "metadata": {},
   "outputs": [
    {
     "data": {
      "text/plain": [
       "dict"
      ]
     },
     "execution_count": 62,
     "metadata": {},
     "output_type": "execute_result"
    }
   ],
   "source": [
    "type(st_cap)"
   ]
  },
  {
   "cell_type": "code",
   "execution_count": 64,
   "id": "ab6cb322",
   "metadata": {},
   "outputs": [
    {
     "data": {
      "text/plain": [
       "dict_keys(['Georgia'])"
      ]
     },
     "execution_count": 64,
     "metadata": {},
     "output_type": "execute_result"
    }
   ],
   "source": [
    "st_cap.keys()"
   ]
  },
  {
   "cell_type": "code",
   "execution_count": 65,
   "id": "1600a80c",
   "metadata": {},
   "outputs": [
    {
     "data": {
      "text/plain": [
       "dict_values(['Atlanta'])"
      ]
     },
     "execution_count": 65,
     "metadata": {},
     "output_type": "execute_result"
    }
   ],
   "source": [
    "st_cap.values()"
   ]
  },
  {
   "cell_type": "code",
   "execution_count": 66,
   "id": "d6f6db1b",
   "metadata": {},
   "outputs": [
    {
     "data": {
      "text/plain": [
       "dict_items([('Georgia', 'Atlanta')])"
      ]
     },
     "execution_count": 66,
     "metadata": {},
     "output_type": "execute_result"
    }
   ],
   "source": [
    "st_cap.items()"
   ]
  },
  {
   "cell_type": "code",
   "execution_count": 67,
   "id": "a29a85a4",
   "metadata": {},
   "outputs": [
    {
     "data": {
      "text/plain": [
       "{'Georgia': 'Atlanta'}"
      ]
     },
     "execution_count": 67,
     "metadata": {},
     "output_type": "execute_result"
    }
   ],
   "source": [
    "st_cap"
   ]
  },
  {
   "cell_type": "code",
   "execution_count": 68,
   "id": "cac288ed",
   "metadata": {},
   "outputs": [],
   "source": [
    "st_cap[\"New York\"] = \"Albany\""
   ]
  },
  {
   "cell_type": "code",
   "execution_count": 69,
   "id": "d8d3f639",
   "metadata": {},
   "outputs": [
    {
     "data": {
      "text/plain": [
       "{'Georgia': 'Atlanta', 'New York': 'Albany'}"
      ]
     },
     "execution_count": 69,
     "metadata": {},
     "output_type": "execute_result"
    }
   ],
   "source": [
    "st_cap"
   ]
  },
  {
   "cell_type": "code",
   "execution_count": 71,
   "id": "6fa29671",
   "metadata": {},
   "outputs": [
    {
     "data": {
      "text/plain": [
       "dict_keys(['Georgia', 'New York'])"
      ]
     },
     "execution_count": 71,
     "metadata": {},
     "output_type": "execute_result"
    }
   ],
   "source": [
    "st_cap.keys()"
   ]
  },
  {
   "cell_type": "code",
   "execution_count": 74,
   "id": "91e460bb",
   "metadata": {},
   "outputs": [],
   "source": [
    "num = \"5500\""
   ]
  },
  {
   "cell_type": "code",
   "execution_count": 86,
   "id": "fa8ce9ee",
   "metadata": {},
   "outputs": [
    {
     "data": {
      "text/plain": [
       "'5500'"
      ]
     },
     "execution_count": 86,
     "metadata": {},
     "output_type": "execute_result"
    }
   ],
   "source": [
    "num\n"
   ]
  },
  {
   "cell_type": "code",
   "execution_count": 87,
   "id": "eb8b739e",
   "metadata": {},
   "outputs": [
    {
     "data": {
      "text/plain": [
       "str"
      ]
     },
     "execution_count": 87,
     "metadata": {},
     "output_type": "execute_result"
    }
   ],
   "source": [
    "type(num)"
   ]
  },
  {
   "cell_type": "code",
   "execution_count": 77,
   "id": "e536e3fd",
   "metadata": {},
   "outputs": [
    {
     "data": {
      "text/plain": [
       "5500"
      ]
     },
     "execution_count": 77,
     "metadata": {},
     "output_type": "execute_result"
    }
   ],
   "source": [
    "int(num)"
   ]
  },
  {
   "cell_type": "code",
   "execution_count": 78,
   "id": "aa4eada1",
   "metadata": {},
   "outputs": [],
   "source": [
    "new_num=int(num)"
   ]
  },
  {
   "cell_type": "code",
   "execution_count": 79,
   "id": "16b3fa85",
   "metadata": {},
   "outputs": [
    {
     "data": {
      "text/plain": [
       "5500"
      ]
     },
     "execution_count": 79,
     "metadata": {},
     "output_type": "execute_result"
    }
   ],
   "source": [
    "new_num"
   ]
  },
  {
   "cell_type": "code",
   "execution_count": 80,
   "id": "ebdde4bc",
   "metadata": {},
   "outputs": [
    {
     "data": {
      "text/plain": [
       "int"
      ]
     },
     "execution_count": 80,
     "metadata": {},
     "output_type": "execute_result"
    }
   ],
   "source": [
    "type(new_num)"
   ]
  },
  {
   "cell_type": "code",
   "execution_count": 81,
   "id": "e072ba6b",
   "metadata": {},
   "outputs": [
    {
     "data": {
      "text/plain": [
       "'550055005500'"
      ]
     },
     "execution_count": 81,
     "metadata": {},
     "output_type": "execute_result"
    }
   ],
   "source": [
    "num * 3"
   ]
  },
  {
   "cell_type": "code",
   "execution_count": 82,
   "id": "6b34666c",
   "metadata": {},
   "outputs": [
    {
     "data": {
      "text/plain": [
       "16500"
      ]
     },
     "execution_count": 82,
     "metadata": {},
     "output_type": "execute_result"
    }
   ],
   "source": [
    "new_num * 3"
   ]
  },
  {
   "cell_type": "code",
   "execution_count": 84,
   "id": "ba92843e",
   "metadata": {},
   "outputs": [
    {
     "data": {
      "text/plain": [
       "dict_keys(['Georgia', 'New York'])"
      ]
     },
     "execution_count": 84,
     "metadata": {},
     "output_type": "execute_result"
    }
   ],
   "source": [
    "st_cap.keys()"
   ]
  },
  {
   "cell_type": "code",
   "execution_count": 85,
   "id": "7156cb8d",
   "metadata": {},
   "outputs": [
    {
     "data": {
      "text/plain": [
       "['Georgia', 'New York']"
      ]
     },
     "execution_count": 85,
     "metadata": {},
     "output_type": "execute_result"
    }
   ],
   "source": [
    "list(st_cap.keys())"
   ]
  },
  {
   "cell_type": "code",
   "execution_count": 89,
   "id": "7c4e01b7",
   "metadata": {},
   "outputs": [
    {
     "data": {
      "text/plain": [
       "'New York'"
      ]
     },
     "execution_count": 89,
     "metadata": {},
     "output_type": "execute_result"
    }
   ],
   "source": [
    "list(st_cap.keys())[1]"
   ]
  },
  {
   "cell_type": "code",
   "execution_count": 90,
   "id": "74b1c405",
   "metadata": {},
   "outputs": [
    {
     "data": {
      "text/plain": [
       "{'Georgia': 'Atlanta', 'New York': 'Albany'}"
      ]
     },
     "execution_count": 90,
     "metadata": {},
     "output_type": "execute_result"
    }
   ],
   "source": [
    "st_cap"
   ]
  },
  {
   "cell_type": "code",
   "execution_count": 91,
   "id": "2e6f4c68",
   "metadata": {},
   "outputs": [
    {
     "data": {
      "text/plain": [
       "'Albany'"
      ]
     },
     "execution_count": 91,
     "metadata": {},
     "output_type": "execute_result"
    }
   ],
   "source": [
    "st_cap[\"New York\"]"
   ]
  },
  {
   "cell_type": "code",
   "execution_count": 92,
   "id": "269e9d13",
   "metadata": {},
   "outputs": [],
   "source": [
    "st_cap[\"New York\"] = \"New York City\""
   ]
  },
  {
   "cell_type": "code",
   "execution_count": 93,
   "id": "eaa655c0",
   "metadata": {},
   "outputs": [
    {
     "data": {
      "text/plain": [
       "'New York City'"
      ]
     },
     "execution_count": 93,
     "metadata": {},
     "output_type": "execute_result"
    }
   ],
   "source": [
    "st_cap[\"New York\"]"
   ]
  },
  {
   "cell_type": "code",
   "execution_count": 94,
   "id": "2679e4bf",
   "metadata": {},
   "outputs": [
    {
     "data": {
      "text/plain": [
       "{'Georgia': 'Atlanta', 'New York': 'New York City'}"
      ]
     },
     "execution_count": 94,
     "metadata": {},
     "output_type": "execute_result"
    }
   ],
   "source": [
    "st_cap"
   ]
  },
  {
   "cell_type": "code",
   "execution_count": 96,
   "id": "e033b8a8",
   "metadata": {},
   "outputs": [
    {
     "data": {
      "text/plain": [
       "'New York City'"
      ]
     },
     "execution_count": 96,
     "metadata": {},
     "output_type": "execute_result"
    }
   ],
   "source": [
    "st_cap.get(\"New York\")"
   ]
  },
  {
   "cell_type": "code",
   "execution_count": 98,
   "id": "f3885cbf",
   "metadata": {},
   "outputs": [],
   "source": [
    "st_cap.get(\"Florida\")"
   ]
  },
  {
   "cell_type": "code",
   "execution_count": null,
   "id": "5918c531",
   "metadata": {},
   "outputs": [],
   "source": []
  }
 ],
 "metadata": {
  "kernelspec": {
   "display_name": "Python 3 (ipykernel)",
   "language": "python",
   "name": "python3"
  },
  "language_info": {
   "codemirror_mode": {
    "name": "ipython",
    "version": 3
   },
   "file_extension": ".py",
   "mimetype": "text/x-python",
   "name": "python",
   "nbconvert_exporter": "python",
   "pygments_lexer": "ipython3",
   "version": "3.9.12"
  }
 },
 "nbformat": 4,
 "nbformat_minor": 5
}
