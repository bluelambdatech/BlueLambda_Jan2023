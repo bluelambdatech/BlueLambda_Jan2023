{
 "cells": [
  {
   "cell_type": "markdown",
   "id": "a8ea42e4",
   "metadata": {},
   "source": [
    "### Data Types"
   ]
  },
  {
   "cell_type": "code",
   "execution_count": 2,
   "id": "77f83a18",
   "metadata": {},
   "outputs": [
    {
     "data": {
      "text/plain": [
       "'Hello World'"
      ]
     },
     "execution_count": 2,
     "metadata": {},
     "output_type": "execute_result"
    }
   ],
   "source": [
    "\"Hello World\""
   ]
  },
  {
   "cell_type": "code",
   "execution_count": 9,
   "id": "801c5b3a",
   "metadata": {},
   "outputs": [],
   "source": [
    "num = \"100\""
   ]
  },
  {
   "cell_type": "code",
   "execution_count": 10,
   "id": "3cda7c93",
   "metadata": {},
   "outputs": [
    {
     "data": {
      "text/plain": [
       "'100'"
      ]
     },
     "execution_count": 10,
     "metadata": {},
     "output_type": "execute_result"
    }
   ],
   "source": [
    "num"
   ]
  },
  {
   "cell_type": "code",
   "execution_count": 11,
   "id": "cd1f0222",
   "metadata": {},
   "outputs": [
    {
     "name": "stdout",
     "output_type": "stream",
     "text": [
      "100\n"
     ]
    }
   ],
   "source": [
    "print(num)"
   ]
  },
  {
   "cell_type": "code",
   "execution_count": 12,
   "id": "e1f48aea",
   "metadata": {},
   "outputs": [
    {
     "data": {
      "text/plain": [
       "str"
      ]
     },
     "execution_count": 12,
     "metadata": {},
     "output_type": "execute_result"
    }
   ],
   "source": [
    "type(num)"
   ]
  },
  {
   "cell_type": "code",
   "execution_count": 14,
   "id": "8c422c0d",
   "metadata": {},
   "outputs": [],
   "source": [
    "name = \"Mary Anne Moore\""
   ]
  },
  {
   "cell_type": "code",
   "execution_count": 15,
   "id": "47d58145",
   "metadata": {},
   "outputs": [
    {
     "data": {
      "text/plain": [
       "'Mary Anne Moore'"
      ]
     },
     "execution_count": 15,
     "metadata": {},
     "output_type": "execute_result"
    }
   ],
   "source": [
    "name"
   ]
  },
  {
   "cell_type": "code",
   "execution_count": 17,
   "id": "77f95e4f",
   "metadata": {},
   "outputs": [
    {
     "data": {
      "text/plain": [
       "'Mary anne moore'"
      ]
     },
     "execution_count": 17,
     "metadata": {},
     "output_type": "execute_result"
    }
   ],
   "source": [
    "name.capitalize()"
   ]
  },
  {
   "cell_type": "code",
   "execution_count": 19,
   "id": "40d2a98a",
   "metadata": {},
   "outputs": [
    {
     "data": {
      "text/plain": [
       "False"
      ]
     },
     "execution_count": 19,
     "metadata": {},
     "output_type": "execute_result"
    }
   ],
   "source": [
    "name.isupper()"
   ]
  },
  {
   "cell_type": "code",
   "execution_count": 20,
   "id": "5a2071f5",
   "metadata": {},
   "outputs": [
    {
     "data": {
      "text/plain": [
       "'MARY ANNE MOORE'"
      ]
     },
     "execution_count": 20,
     "metadata": {},
     "output_type": "execute_result"
    }
   ],
   "source": [
    "name.upper()"
   ]
  },
  {
   "cell_type": "code",
   "execution_count": 22,
   "id": "85002e53",
   "metadata": {},
   "outputs": [
    {
     "data": {
      "text/plain": [
       "'Mary Anne Moore'"
      ]
     },
     "execution_count": 22,
     "metadata": {},
     "output_type": "execute_result"
    }
   ],
   "source": [
    "name. title()"
   ]
  },
  {
   "cell_type": "code",
   "execution_count": 23,
   "id": "fcbd72ab",
   "metadata": {},
   "outputs": [
    {
     "data": {
      "text/plain": [
       "False"
      ]
     },
     "execution_count": 23,
     "metadata": {},
     "output_type": "execute_result"
    }
   ],
   "source": [
    "name.islower()"
   ]
  },
  {
   "cell_type": "code",
   "execution_count": 28,
   "id": "6cad9895",
   "metadata": {},
   "outputs": [
    {
     "data": {
      "text/plain": [
       "2"
      ]
     },
     "execution_count": 28,
     "metadata": {},
     "output_type": "execute_result"
    }
   ],
   "source": [
    "name.count(\"n\")"
   ]
  },
  {
   "cell_type": "code",
   "execution_count": null,
   "id": "3fac2f39",
   "metadata": {},
   "outputs": [],
   "source": [
    "### split"
   ]
  },
  {
   "cell_type": "code",
   "execution_count": 29,
   "id": "90221f2e",
   "metadata": {},
   "outputs": [
    {
     "data": {
      "text/plain": [
       "['Mary', 'Anne', 'Moore']"
      ]
     },
     "execution_count": 29,
     "metadata": {},
     "output_type": "execute_result"
    }
   ],
   "source": [
    "name.split()"
   ]
  },
  {
   "cell_type": "code",
   "execution_count": 32,
   "id": "4b7c9d4c",
   "metadata": {},
   "outputs": [
    {
     "data": {
      "text/plain": [
       "['Mary A', '', 'e Moore']"
      ]
     },
     "execution_count": 32,
     "metadata": {},
     "output_type": "execute_result"
    }
   ],
   "source": [
    "name.split(\"n\")"
   ]
  },
  {
   "cell_type": "code",
   "execution_count": 33,
   "id": "7dd5e409",
   "metadata": {},
   "outputs": [],
   "source": [
    "date = \"07/07/2023\""
   ]
  },
  {
   "cell_type": "code",
   "execution_count": 35,
   "id": "872b7a30",
   "metadata": {},
   "outputs": [
    {
     "data": {
      "text/plain": [
       "['07', '07', '2023']"
      ]
     },
     "execution_count": 35,
     "metadata": {},
     "output_type": "execute_result"
    }
   ],
   "source": [
    "date.split(\"/\")"
   ]
  },
  {
   "cell_type": "code",
   "execution_count": 36,
   "id": "afdb8604",
   "metadata": {},
   "outputs": [],
   "source": [
    "sp = date.split(\"/\")"
   ]
  },
  {
   "cell_type": "code",
   "execution_count": 37,
   "id": "93a8a0a4",
   "metadata": {},
   "outputs": [
    {
     "data": {
      "text/plain": [
       "'07-07-2023'"
      ]
     },
     "execution_count": 37,
     "metadata": {},
     "output_type": "execute_result"
    }
   ],
   "source": [
    "\"-\".join([sp[1],sp[0],sp[2]])"
   ]
  },
  {
   "cell_type": "code",
   "execution_count": 38,
   "id": "956e7159",
   "metadata": {},
   "outputs": [
    {
     "data": {
      "text/plain": [
       "'Mary Anne Moore'"
      ]
     },
     "execution_count": 38,
     "metadata": {},
     "output_type": "execute_result"
    }
   ],
   "source": [
    "name"
   ]
  },
  {
   "cell_type": "code",
   "execution_count": 39,
   "id": "3f656996",
   "metadata": {},
   "outputs": [],
   "source": [
    "### splice"
   ]
  },
  {
   "cell_type": "code",
   "execution_count": 40,
   "id": "df6cbcae",
   "metadata": {},
   "outputs": [
    {
     "data": {
      "text/plain": [
       "'e'"
      ]
     },
     "execution_count": 40,
     "metadata": {},
     "output_type": "execute_result"
    }
   ],
   "source": [
    "name[-1]"
   ]
  },
  {
   "cell_type": "code",
   "execution_count": 41,
   "id": "9598ea87",
   "metadata": {},
   "outputs": [
    {
     "data": {
      "text/plain": [
       "'M'"
      ]
     },
     "execution_count": 41,
     "metadata": {},
     "output_type": "execute_result"
    }
   ],
   "source": [
    "name[0]"
   ]
  },
  {
   "cell_type": "code",
   "execution_count": 42,
   "id": "5a02cf5c",
   "metadata": {},
   "outputs": [
    {
     "data": {
      "text/plain": [
       "'r'"
      ]
     },
     "execution_count": 42,
     "metadata": {},
     "output_type": "execute_result"
    }
   ],
   "source": [
    "name[-2]"
   ]
  },
  {
   "cell_type": "code",
   "execution_count": 43,
   "id": "01b54edf",
   "metadata": {},
   "outputs": [
    {
     "data": {
      "text/plain": [
       "'Mr neMoe'"
      ]
     },
     "execution_count": 43,
     "metadata": {},
     "output_type": "execute_result"
    }
   ],
   "source": [
    "name[0:15:2]"
   ]
  },
  {
   "cell_type": "code",
   "execution_count": 44,
   "id": "2dae9dd9",
   "metadata": {},
   "outputs": [
    {
     "data": {
      "text/plain": [
       "'Mr neMo'"
      ]
     },
     "execution_count": 44,
     "metadata": {},
     "output_type": "execute_result"
    }
   ],
   "source": [
    "name[0:-1:2]"
   ]
  },
  {
   "cell_type": "code",
   "execution_count": 45,
   "id": "7595809f",
   "metadata": {},
   "outputs": [
    {
     "data": {
      "text/plain": [
       "'Mary Anne Moore'"
      ]
     },
     "execution_count": 45,
     "metadata": {},
     "output_type": "execute_result"
    }
   ],
   "source": [
    "name[0:15]"
   ]
  },
  {
   "cell_type": "code",
   "execution_count": 46,
   "id": "4730d58b",
   "metadata": {},
   "outputs": [
    {
     "data": {
      "text/plain": [
       "'Myn o'"
      ]
     },
     "execution_count": 46,
     "metadata": {},
     "output_type": "execute_result"
    }
   ],
   "source": [
    "name[::3]"
   ]
  },
  {
   "cell_type": "code",
   "execution_count": 47,
   "id": "a168b015",
   "metadata": {},
   "outputs": [
    {
     "data": {
      "text/plain": [
       "'erooM ennA yraM'"
      ]
     },
     "execution_count": 47,
     "metadata": {},
     "output_type": "execute_result"
    }
   ],
   "source": [
    "name[::-1]"
   ]
  },
  {
   "cell_type": "code",
   "execution_count": 48,
   "id": "f8b5c11e",
   "metadata": {},
   "outputs": [
    {
     "data": {
      "text/plain": [
       "'mARY aNNE mOORE'"
      ]
     },
     "execution_count": 48,
     "metadata": {},
     "output_type": "execute_result"
    }
   ],
   "source": [
    "name.swapcase()"
   ]
  },
  {
   "cell_type": "code",
   "execution_count": null,
   "id": "6c1a4176",
   "metadata": {},
   "outputs": [],
   "source": []
  }
 ],
 "metadata": {
  "kernelspec": {
   "display_name": "Python 3 (ipykernel)",
   "language": "python",
   "name": "python3"
  },
  "language_info": {
   "codemirror_mode": {
    "name": "ipython",
    "version": 3
   },
   "file_extension": ".py",
   "mimetype": "text/x-python",
   "name": "python",
   "nbconvert_exporter": "python",
   "pygments_lexer": "ipython3",
   "version": "3.9.12"
  }
 },
 "nbformat": 4,
 "nbformat_minor": 5
}
