{
 "cells": [
  {
   "cell_type": "code",
   "execution_count": 2,
   "id": "8a48f72f",
   "metadata": {},
   "outputs": [
    {
     "name": "stdout",
     "output_type": "stream",
     "text": [
      "[6, 12, 18, 4, 12, 20, 28]\n"
     ]
    }
   ],
   "source": [
    "i1 = [3, 6, 9, 12, 15, 18, 21]\n",
    "i2 = [4, 8, 12, 16, 20, 24, 28]\n",
    "i3 = []\n",
    "\n",
    "for x in i1[1::2]:\n",
    "    i3.append(x)\n",
    "for y in i2[::2]:\n",
    "    i3.append(y)\n",
    "\n",
    "print(i3)"
   ]
  },
  {
   "cell_type": "code",
   "execution_count": 4,
   "id": "6924bcec",
   "metadata": {},
   "outputs": [
    {
     "name": "stdout",
     "output_type": "stream",
     "text": [
      "{'Ten': 10, 'Twenty': 20, 'Thirty': 30}\n"
     ]
    }
   ],
   "source": [
    "keys = [\"Ten\",\"Twenty\",\"Thirty\"]\n",
    "values = [10, 20, 30]\n",
    "dict1 = {}\n",
    "\n",
    "for key in keys:\n",
    "    for value in values:\n",
    "        dict1[key] = value\n",
    "        values.remove(value)\n",
    "        break\n",
    "print(dict1)"
   ]
  },
  {
   "cell_type": "code",
   "execution_count": 9,
   "id": "139be578",
   "metadata": {},
   "outputs": [
    {
     "name": "stdout",
     "output_type": "stream",
     "text": [
      "{'Ten': 10, 'Twenty': 20, 'Thirty': 30, 'Fourty': 40, 'Fifty': 50}\n"
     ]
    }
   ],
   "source": [
    "dict1 = {\"Ten\" : 10, \"Twenty\" : 20, \"Thirty\" : 30}\n",
    "dict2 = {\"Thirty\" : 30, \"Fourty\" : 40, \"Fifty\" : 50}\n",
    "\n",
    "dict3 = {}\n",
    "\n",
    "dict3.update(dict1)\n",
    "dict3.update(dict2)\n",
    "\n",
    "\n",
    "print(dict3)"
   ]
  },
  {
   "cell_type": "code",
   "execution_count": 8,
   "id": "438044bd",
   "metadata": {},
   "outputs": [
    {
     "name": "stdout",
     "output_type": "stream",
     "text": [
      "80\n",
      "80\n"
     ]
    }
   ],
   "source": [
    "sampleDict = {\n",
    "    \"class\":{\n",
    "        \"student\":{\n",
    "            \"name\": \"Mike\",\n",
    "            \"marks\":{\n",
    "                \"physics\":70,\n",
    "                \"history\":80\n",
    "            }\n",
    "        }\n",
    "        \n",
    "    }\n",
    "}\n",
    "\n",
    "\n",
    "for element in sampleDict['class']['student']:\n",
    "    for key, value in sampleDict['class']['student'].items():\n",
    "        if 'marks' == key:\n",
    "            print(value['history'])\n",
    "            "
   ]
  },
  {
   "cell_type": "code",
   "execution_count": 11,
   "id": "de98746a",
   "metadata": {},
   "outputs": [
    {
     "name": "stdout",
     "output_type": "stream",
     "text": [
      "Chunk1 List:  [11, 45, 8]\n",
      "Chunk1 List Reversed:  [8, 45, 11]\n",
      "Chunk2 List:  [23, 14, 12]\n",
      "Chunk2 List Reversed:  [12, 14, 23]\n",
      "Chunk2 List:  [12, 14, 23]\n",
      "Chunk3 List Reversed:  [89, 45, 78]\n"
     ]
    }
   ],
   "source": [
    "sample_list = [11, 45, 8, 23, 14, 12, 78, 45, 89]\n",
    "\n",
    "chunk1 = []\n",
    "chunk2 = []\n",
    "chunk3 = []\n",
    "\n",
    "list_len = len(sample_list)\n",
    "\n",
    "list_len\n",
    "\n",
    "chunk = 0\n",
    "incr = list_len // 3\n",
    "\n",
    "for i in sample_list[chunk:chunk+incr]:\n",
    "    chunk1.append(i)\n",
    "chunk += incr\n",
    "for j in sample_list[chunk:chunk + incr]:   \n",
    "    chunk2.append(j)\n",
    "chunk += incr\n",
    "for k in sample_list[chunk:chunk + incr]:\n",
    "    chunk3.append(k)\n",
    "    \n",
    "\n",
    "print(\"Chunk1 List: \",chunk1)\n",
    "chunk1.reverse()\n",
    "print(\"Chunk1 List Reversed: \",chunk1)\n",
    "\n",
    "print(\"Chunk2 List: \",chunk2)\n",
    "chunk2.reverse()\n",
    "print(\"Chunk2 List Reversed: \",chunk2)\n",
    "\n",
    "print(\"Chunk2 List: \",chunk2)\n",
    "chunk3.reverse()\n",
    "print(\"Chunk3 List Reversed: \",chunk3)"
   ]
  },
  {
   "cell_type": "code",
   "execution_count": 13,
   "id": "2c661138",
   "metadata": {},
   "outputs": [
    {
     "data": {
      "text/plain": [
       "{11: 2, 45: 3, 8: 1, 23: 2, 89: 1}"
      ]
     },
     "execution_count": 13,
     "metadata": {},
     "output_type": "execute_result"
    }
   ],
   "source": [
    "sample2_list = [11, 45, 8, 11, 23, 45, 23, 45, 89]\n",
    "\n",
    "new_dict = {}\n",
    "\n",
    "for i in sample2_list:\n",
    "    new_dict[i] = sample2_list.count(i)\n",
    "        \n",
    "\n",
    "new_dict"
   ]
  },
  {
   "cell_type": "code",
   "execution_count": 8,
   "id": "e403e1db",
   "metadata": {},
   "outputs": [
    {
     "name": "stdout",
     "output_type": "stream",
     "text": [
      "{'salary': 8000, 'name': 'Kelly'}\n"
     ]
    }
   ],
   "source": [
    "sample_dict = {\n",
    "    \"name\":\"Kelly\",\n",
    "    \"age\" : 25,\n",
    "    \"salary\" : 8000,\n",
    "    \"city\" : \"New York\"\n",
    "}\n",
    "\n",
    "ext_key = ['name','salary']\n",
    "\n",
    "key_ext = {key: sample_dict[key] for key in sample_dict.keys() & ext_key}\n",
    "\n",
    "print(key_ext)\n",
    "\n"
   ]
  },
  {
   "cell_type": "code",
   "execution_count": 15,
   "id": "1f033dde",
   "metadata": {},
   "outputs": [
    {
     "data": {
      "text/plain": [
       "{(2, 4), (3, 9), (4, 16), (5, 25), (6, 36), (7, 49), (8, 64)}"
      ]
     },
     "execution_count": 15,
     "metadata": {},
     "output_type": "execute_result"
    }
   ],
   "source": [
    "first_list = [2, 3, 4, 5, 6, 7, 8]\n",
    "second_list = [4, 9, 16, 25, 36, 49, 64]\n",
    "\n",
    "new_set = set(zip(first_list,second_list))\n",
    "\n",
    "\n",
    "new_set\n"
   ]
  },
  {
   "cell_type": "code",
   "execution_count": null,
   "id": "bf64aead",
   "metadata": {},
   "outputs": [],
   "source": [
    "sample_dict = {'a': 100, 'b' : 200, \"c\" : 300}\n",
    "\n",
    "find_value = int(input(f\"ENTER A VALUE:\"))\n",
    "\n",
    "for key in sample_dict.keys():\n",
    "    if sample_dict[key] == find_value:\n",
    "        print(f\"The number {find_value} is in this dictionary\")\n",
    "        break\n",
    "    "
   ]
  },
  {
   "cell_type": "code",
   "execution_count": 2,
   "id": "410fa05a",
   "metadata": {},
   "outputs": [
    {
     "data": {
      "text/plain": [
       "'Math'"
      ]
     },
     "execution_count": 2,
     "metadata": {},
     "output_type": "execute_result"
    }
   ],
   "source": [
    "sample6_dict = {\n",
    "  'Physics': 82,\n",
    "  'Math': 65,\n",
    "  'history': 75\n",
    "}\n",
    "\n",
    "min_value = min(sample6_dict.values())\n",
    "min_key = [key for key, value in sample6_dict.items() if value == min_value][0]\n",
    "\n",
    "min_key\n"
   ]
  },
  {
   "cell_type": "code",
   "execution_count": 9,
   "id": "a5900b52",
   "metadata": {},
   "outputs": [
    {
     "data": {
      "text/plain": [
       "{'emp1': {'name': 'Jhon', 'salary': 7500},\n",
       " 'emp2': {'name': 'Emma', 'salary': 8000},\n",
       " 'emp3': {'name': 'Brad', 'salary': 8500}}"
      ]
     },
     "execution_count": 9,
     "metadata": {},
     "output_type": "execute_result"
    }
   ],
   "source": [
    "sample5_dict = {\n",
    "    'emp1': {'name': 'Jhon', 'salary': 7500},\n",
    "    'emp2': {'name': 'Emma', 'salary': 8000},\n",
    "    'emp3': {'name': 'Brad', 'salary': 500}\n",
    "}\n",
    "\n",
    "\n",
    "sample5_dict['emp3']['salary'] = 8500\n",
    "\n",
    "\n",
    "sample5_dict\n"
   ]
  }
 ],
 "metadata": {
  "kernelspec": {
   "display_name": "Python 3 (ipykernel)",
   "language": "python",
   "name": "python3"
  },
  "language_info": {
   "codemirror_mode": {
    "name": "ipython",
    "version": 3
   },
   "file_extension": ".py",
   "mimetype": "text/x-python",
   "name": "python",
   "nbconvert_exporter": "python",
   "pygments_lexer": "ipython3",
   "version": "3.9.13"
  }
 },
 "nbformat": 4,
 "nbformat_minor": 5
}
