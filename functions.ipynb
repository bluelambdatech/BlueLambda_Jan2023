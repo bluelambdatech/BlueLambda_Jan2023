{
 "cells": [
  {
   "cell_type": "code",
   "execution_count": 1,
   "id": "cf262f17",
   "metadata": {},
   "outputs": [],
   "source": [
    "list_of_names = ['omolewa', 'labi', 'nene', 'olalekan']"
   ]
  },
  {
   "cell_type": "code",
   "execution_count": 27,
   "id": "04196a9c",
   "metadata": {},
   "outputs": [],
   "source": [
    "new_list = []"
   ]
  },
  {
   "cell_type": "code",
   "execution_count": 28,
   "id": "e896ba63",
   "metadata": {},
   "outputs": [],
   "source": [
    "for name in list_of_names:\n",
    "    new_list.append(name[0].upper())\n",
    "    \n"
   ]
  },
  {
   "cell_type": "code",
   "execution_count": 29,
   "id": "769243d8",
   "metadata": {},
   "outputs": [
    {
     "data": {
      "text/plain": [
       "['O', 'L', 'N', 'O']"
      ]
     },
     "execution_count": 29,
     "metadata": {},
     "output_type": "execute_result"
    }
   ],
   "source": [
    "[name[0].upper() for name in list_of_names ]"
   ]
  },
  {
   "cell_type": "code",
   "execution_count": 44,
   "id": "fb62e60b",
   "metadata": {},
   "outputs": [
    {
     "data": {
      "text/plain": [
       "'OLNO'"
      ]
     },
     "execution_count": 44,
     "metadata": {},
     "output_type": "execute_result"
    }
   ],
   "source": [
    "list_of_names = ['omolewa', 'labi', 'nene', 'olalekan']\n",
    "\n",
    "str1 = \"\"\n",
    "\n",
    "for char in new_list:\n",
    "    str1 += char\n",
    "    \n",
    "\"\".join([name[0].upper() for name in list_of_names ])\n"
   ]
  },
  {
   "cell_type": "code",
   "execution_count": 52,
   "id": "8049651c",
   "metadata": {},
   "outputs": [
    {
     "data": {
      "text/plain": [
       "{'OMOLEWA': 'O', 'LABI': 'L', 'NENE': 'N', 'OLALEKAN': 'O'}"
      ]
     },
     "execution_count": 52,
     "metadata": {},
     "output_type": "execute_result"
    }
   ],
   "source": [
    "list_of_names = ['omolewa', 'labi', 'nene', 'olalekan']\n",
    "\n",
    "dict1 = {}\n",
    "\n",
    "##for name in list_of_names:\n",
    "    ##dict1[name.upper()] = name[0].upper()\n",
    "    \n",
    "dict1 = {name.upper(): name[0].upper() for name in list_of_names }\n",
    "\n",
    "dict1"
   ]
  },
  {
   "cell_type": "code",
   "execution_count": 114,
   "id": "b2f91558",
   "metadata": {},
   "outputs": [
    {
     "name": "stdout",
     "output_type": "stream",
     "text": [
      "Enter your date :24/06/2022\n"
     ]
    },
    {
     "data": {
      "text/plain": [
       "'06/24/2022'"
      ]
     },
     "execution_count": 114,
     "metadata": {},
     "output_type": "execute_result"
    }
   ],
   "source": [
    "date = input(f\"Enter your date :\")\n",
    "\n",
    "output= date.split('/')\n",
    "\n",
    "out=(output[1]+'/'+output[0]+'/'+output[2])\n",
    "    \n",
    "    \n",
    "out   \n",
    "        \n",
    "\n",
    "\n",
    "\n"
   ]
  },
  {
   "cell_type": "code",
   "execution_count": 79,
   "id": "38237bb8",
   "metadata": {},
   "outputs": [],
   "source": [
    "def square_v(x):\n",
    "    output = x ** 2\n",
    "    return output"
   ]
  },
  {
   "cell_type": "code",
   "execution_count": 82,
   "id": "87f7a7c9",
   "metadata": {},
   "outputs": [
    {
     "data": {
      "text/plain": [
       "49"
      ]
     },
     "execution_count": 82,
     "metadata": {},
     "output_type": "execute_result"
    }
   ],
   "source": [
    "square_v(7)"
   ]
  },
  {
   "cell_type": "code",
   "execution_count": 107,
   "id": "2963aca6",
   "metadata": {},
   "outputs": [],
   "source": [
    "def multiv (x,y):\n",
    "    output = x * y\n",
    "    return output"
   ]
  },
  {
   "cell_type": "code",
   "execution_count": 91,
   "id": "9088bfc3",
   "metadata": {},
   "outputs": [
    {
     "data": {
      "text/plain": [
       "25"
      ]
     },
     "execution_count": 91,
     "metadata": {},
     "output_type": "execute_result"
    }
   ],
   "source": [
    "multiv(5,6)\n",
    "square_v(5)"
   ]
  },
  {
   "cell_type": "code",
   "execution_count": 101,
   "id": "22bdb1fb",
   "metadata": {},
   "outputs": [
    {
     "data": {
      "text/plain": [
       "108"
      ]
     },
     "execution_count": 101,
     "metadata": {},
     "output_type": "execute_result"
    }
   ],
   "source": [
    "multiv(9,12)"
   ]
  },
  {
   "cell_type": "code",
   "execution_count": 104,
   "id": "6c74d73c",
   "metadata": {},
   "outputs": [],
   "source": [
    "def upper_name(name):\n",
    "    u = name.upper()\n",
    "    return u"
   ]
  },
  {
   "cell_type": "code",
   "execution_count": 108,
   "id": "230756ea",
   "metadata": {},
   "outputs": [
    {
     "data": {
      "text/plain": [
       "'OMOLEWA'"
      ]
     },
     "execution_count": 108,
     "metadata": {},
     "output_type": "execute_result"
    }
   ],
   "source": [
    "upper_name('omolewa')"
   ]
  },
  {
   "cell_type": "code",
   "execution_count": 109,
   "id": "05892f1b",
   "metadata": {},
   "outputs": [],
   "source": [
    "list_of_names = ['omolewa', 'labi', 'nene', 'olalekan']"
   ]
  },
  {
   "cell_type": "code",
   "execution_count": 127,
   "id": "cf10e9af",
   "metadata": {},
   "outputs": [],
   "source": [
    "def first_char(lis):\n",
    "    upp = [name[0].upper() for name in lis]\n",
    "    return upp"
   ]
  },
  {
   "cell_type": "code",
   "execution_count": 132,
   "id": "68a95619",
   "metadata": {},
   "outputs": [
    {
     "data": {
      "text/plain": [
       "['J', 'L', 'N', 'O', 'B']"
      ]
     },
     "execution_count": 132,
     "metadata": {},
     "output_type": "execute_result"
    }
   ],
   "source": [
    "first_char(['jide', 'labi', 'nene', 'olalekan','bolaji'])"
   ]
  },
  {
   "cell_type": "code",
   "execution_count": 75,
   "id": "43bb67fe",
   "metadata": {},
   "outputs": [],
   "source": [
    "def even_list(x,y):\n",
    "    pop_x = []\n",
    "    pop_x.append(x)\n",
    "    even_list =[]\n",
    "    list_len = y - x\n",
    "    \n",
    "    pop_x =[(x+idx) for idx in range(0,list_len+1)]\n",
    "        ##pop_x.append(x+idx)\n",
    "                     \n",
    "    even_list =[(x+idx) for idx in range(0,list_len+1) if (pop_x[idx] % 2) == 0 ]\n",
    "        ##if pop_x[ind] % 2 == 0:\n",
    "            ##even_list.append(pop_x[ind])\n",
    "            \n",
    "    return even_list"
   ]
  },
  {
   "cell_type": "code",
   "execution_count": 81,
   "id": "8c55d0af",
   "metadata": {},
   "outputs": [
    {
     "data": {
      "text/plain": [
       "[4,\n",
       " 6,\n",
       " 8,\n",
       " 10,\n",
       " 12,\n",
       " 14,\n",
       " 16,\n",
       " 18,\n",
       " 20,\n",
       " 22,\n",
       " 24,\n",
       " 26,\n",
       " 28,\n",
       " 30,\n",
       " 32,\n",
       " 34,\n",
       " 36,\n",
       " 38,\n",
       " 40,\n",
       " 42,\n",
       " 44,\n",
       " 46,\n",
       " 48,\n",
       " 50]"
      ]
     },
     "execution_count": 81,
     "metadata": {},
     "output_type": "execute_result"
    }
   ],
   "source": [
    "even_list(3,50)"
   ]
  },
  {
   "cell_type": "code",
   "execution_count": 173,
   "id": "a11b373a",
   "metadata": {},
   "outputs": [],
   "source": [
    "def largest_item(x):\n",
    "    max_value = x[0]\n",
    "    \n",
    "    \n",
    "    return [idx for idx in x if idx > max_value]\n",
    "        ##if idx > max_value:\n",
    "            ##max_value = idx\n",
    "            \n",
    "    ##return max_value"
   ]
  },
  {
   "cell_type": "code",
   "execution_count": 175,
   "id": "d0573817",
   "metadata": {},
   "outputs": [
    {
     "data": {
      "text/plain": [
       "[6, 8, 24, 12]"
      ]
     },
     "execution_count": 175,
     "metadata": {},
     "output_type": "execute_result"
    }
   ],
   "source": [
    "x = [4, 6, 8, 24, 12, 2]\n",
    "\n",
    "largest_item(x)"
   ]
  },
  {
   "cell_type": "code",
   "execution_count": 22,
   "id": "5d8e45e0",
   "metadata": {},
   "outputs": [],
   "source": [
    "def even_list(x,y):\n",
    "   \n",
    "    even_list = []\n",
    "    even_list =[idx for idx in range(x,y+1) if (idx % 2) == 0  ]\n",
    "                     \n",
    "    ##even_list =[(x+idx) for idx in range(0,list_len+1) if (pop_x[idx] % 2) == 0 ]\n",
    "            \n",
    "    return even_list"
   ]
  },
  {
   "cell_type": "code",
   "execution_count": 24,
   "id": "6d50e563",
   "metadata": {},
   "outputs": [
    {
     "data": {
      "text/plain": [
       "[4, 6, 8, 10, 12, 14, 16, 18, 20, 22, 24, 26, 28, 30, 32, 34, 36]"
      ]
     },
     "execution_count": 24,
     "metadata": {},
     "output_type": "execute_result"
    }
   ],
   "source": [
    "even_list(4,37)"
   ]
  },
  {
   "cell_type": "code",
   "execution_count": 33,
   "id": "79b41ec1",
   "metadata": {},
   "outputs": [],
   "source": [
    "def largest_item(x):\n",
    "    max_value = x[0]\n",
    "    \n",
    "    for idx in x:\n",
    "        if idx > max_value:\n",
    "            max_value = idx\n",
    "            \n",
    "    return max_value"
   ]
  },
  {
   "cell_type": "code",
   "execution_count": 37,
   "id": "4241cb95",
   "metadata": {},
   "outputs": [
    {
     "data": {
      "text/plain": [
       "371"
      ]
     },
     "execution_count": 37,
     "metadata": {},
     "output_type": "execute_result"
    }
   ],
   "source": [
    "x = [4,6,8,24,12,2,70,109,20,300,27,192,371,92,73,18,292]\n",
    "\n",
    "largest_item(x)"
   ]
  },
  {
   "cell_type": "code",
   "execution_count": 103,
   "id": "cbf8b4fc",
   "metadata": {},
   "outputs": [],
   "source": [
    "def showEmployee(x,y=9000):\n",
    "    emp_out = {}\n",
    "    emp_out['Name'] = x\n",
    "    emp_out['salary']= y\n",
    "    \n",
    "    return emp_out"
   ]
  },
  {
   "cell_type": "code",
   "execution_count": 102,
   "id": "c9d8ef9a",
   "metadata": {},
   "outputs": [
    {
     "data": {
      "text/plain": [
       "{'Name': 'owolabi', 'salary': 9000}"
      ]
     },
     "execution_count": 102,
     "metadata": {},
     "output_type": "execute_result"
    }
   ],
   "source": [
    "showEmployee('owolabi')"
   ]
  }
 ],
 "metadata": {
  "kernelspec": {
   "display_name": "Python 3 (ipykernel)",
   "language": "python",
   "name": "python3"
  },
  "language_info": {
   "codemirror_mode": {
    "name": "ipython",
    "version": 3
   },
   "file_extension": ".py",
   "mimetype": "text/x-python",
   "name": "python",
   "nbconvert_exporter": "python",
   "pygments_lexer": "ipython3",
   "version": "3.9.13"
  }
 },
 "nbformat": 4,
 "nbformat_minor": 5
}
