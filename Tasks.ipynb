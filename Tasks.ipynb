{
 "cells": [
  {
   "cell_type": "code",
   "execution_count": 6,
   "id": "e21ae283",
   "metadata": {},
   "outputs": [],
   "source": [
    "keys = [\"Ten\" , \"Twenty\" , \"Thirty\"]\n",
    "values = [10, 20, 30]"
   ]
  },
  {
   "cell_type": "code",
   "execution_count": 7,
   "id": "3d1e46dd",
   "metadata": {},
   "outputs": [
    {
     "data": {
      "text/plain": [
       "'Ten'"
      ]
     },
     "execution_count": 7,
     "metadata": {},
     "output_type": "execute_result"
    }
   ],
   "source": [
    "keys [0]"
   ]
  },
  {
   "cell_type": "code",
   "execution_count": null,
   "id": "ea2eae40",
   "metadata": {},
   "outputs": [],
   "source": [
    "out = {\"Ten: 10, \"Twenty\": 20, \"Thirty\": 30}"
   ]
  },
  {
   "cell_type": "code",
   "execution_count": 13,
   "id": "f23657f2",
   "metadata": {},
   "outputs": [],
   "source": [
    "output = {}"
   ]
  },
  {
   "cell_type": "code",
   "execution_count": 8,
   "id": "9aa12755",
   "metadata": {},
   "outputs": [
    {
     "data": {
      "text/plain": [
       "'Ten'"
      ]
     },
     "execution_count": 8,
     "metadata": {},
     "output_type": "execute_result"
    }
   ],
   "source": [
    "keys[0]"
   ]
  },
  {
   "cell_type": "code",
   "execution_count": 9,
   "id": "8386d4b3",
   "metadata": {},
   "outputs": [
    {
     "data": {
      "text/plain": [
       "'Twenty'"
      ]
     },
     "execution_count": 9,
     "metadata": {},
     "output_type": "execute_result"
    }
   ],
   "source": [
    "keys [1]"
   ]
  },
  {
   "cell_type": "code",
   "execution_count": 16,
   "id": "92bd0c35",
   "metadata": {},
   "outputs": [
    {
     "data": {
      "text/plain": [
       "'Ten'"
      ]
     },
     "execution_count": 16,
     "metadata": {},
     "output_type": "execute_result"
    }
   ],
   "source": [
    "keys[0]"
   ]
  },
  {
   "cell_type": "code",
   "execution_count": 17,
   "id": "eb78cb28",
   "metadata": {},
   "outputs": [
    {
     "data": {
      "text/plain": [
       "20"
      ]
     },
     "execution_count": 17,
     "metadata": {},
     "output_type": "execute_result"
    }
   ],
   "source": [
    "values [1]"
   ]
  },
  {
   "cell_type": "code",
   "execution_count": 20,
   "id": "0071f8a3",
   "metadata": {},
   "outputs": [],
   "source": [
    "output[keys[0]] = values[0]"
   ]
  },
  {
   "cell_type": "code",
   "execution_count": 21,
   "id": "1d3c8043",
   "metadata": {},
   "outputs": [
    {
     "data": {
      "text/plain": [
       "{'Ten': 10}"
      ]
     },
     "execution_count": 21,
     "metadata": {},
     "output_type": "execute_result"
    }
   ],
   "source": [
    "output"
   ]
  },
  {
   "cell_type": "code",
   "execution_count": 22,
   "id": "9bc0cae7",
   "metadata": {},
   "outputs": [],
   "source": [
    "output[keys[1]] = values[1]"
   ]
  },
  {
   "cell_type": "code",
   "execution_count": 23,
   "id": "aab665b7",
   "metadata": {},
   "outputs": [
    {
     "data": {
      "text/plain": [
       "{'Ten': 10, 'Twenty': 20}"
      ]
     },
     "execution_count": 23,
     "metadata": {},
     "output_type": "execute_result"
    }
   ],
   "source": [
    "output"
   ]
  },
  {
   "cell_type": "code",
   "execution_count": 24,
   "id": "e663d6a6",
   "metadata": {},
   "outputs": [],
   "source": [
    "output[keys[2]] = values[2]"
   ]
  },
  {
   "cell_type": "code",
   "execution_count": 25,
   "id": "49d812e2",
   "metadata": {},
   "outputs": [
    {
     "data": {
      "text/plain": [
       "{'Ten': 10, 'Twenty': 20, 'Thirty': 30}"
      ]
     },
     "execution_count": 25,
     "metadata": {},
     "output_type": "execute_result"
    }
   ],
   "source": [
    "output"
   ]
  },
  {
   "cell_type": "code",
   "execution_count": 27,
   "id": "e115c98e",
   "metadata": {},
   "outputs": [],
   "source": [
    "new_output = {}\n",
    "count = 0\n",
    "for k in keys:\n",
    "    new_output[keys[count]] = values[count]"
   ]
  },
  {
   "cell_type": "code",
   "execution_count": 28,
   "id": "4eb61fc2",
   "metadata": {},
   "outputs": [
    {
     "data": {
      "text/plain": [
       "{'Ten': 10}"
      ]
     },
     "execution_count": 28,
     "metadata": {},
     "output_type": "execute_result"
    }
   ],
   "source": [
    "new_output"
   ]
  },
  {
   "cell_type": "code",
   "execution_count": 31,
   "id": "80ef2adb",
   "metadata": {},
   "outputs": [],
   "source": [
    "new_output = {}\n",
    "count = 0\n",
    "for k in keys:\n",
    "    new_output[keys[count]] = values[count]\n",
    "    count =count + 1"
   ]
  },
  {
   "cell_type": "code",
   "execution_count": 33,
   "id": "ca23a546",
   "metadata": {},
   "outputs": [
    {
     "data": {
      "text/plain": [
       "{'Ten': 10, 'Twenty': 20, 'Thirty': 30}"
      ]
     },
     "execution_count": 33,
     "metadata": {},
     "output_type": "execute_result"
    }
   ],
   "source": [
    "new_output"
   ]
  },
  {
   "cell_type": "code",
   "execution_count": 34,
   "id": "0e65f656",
   "metadata": {},
   "outputs": [
    {
     "data": {
      "text/plain": [
       "3"
      ]
     },
     "execution_count": 34,
     "metadata": {},
     "output_type": "execute_result"
    }
   ],
   "source": [
    "len (keys)"
   ]
  },
  {
   "cell_type": "code",
   "execution_count": 37,
   "id": "d56244c2",
   "metadata": {},
   "outputs": [],
   "source": [
    "new_output = {}\n",
    "count = 0\n",
    "for k in range (len (keys)):\n",
    "    new_output[keys[k]] = values[k]"
   ]
  },
  {
   "cell_type": "code",
   "execution_count": 38,
   "id": "a15afe9c",
   "metadata": {},
   "outputs": [
    {
     "data": {
      "text/plain": [
       "{'Ten': 10, 'Twenty': 20, 'Thirty': 30}"
      ]
     },
     "execution_count": 38,
     "metadata": {},
     "output_type": "execute_result"
    }
   ],
   "source": [
    "new_output"
   ]
  },
  {
   "cell_type": "code",
   "execution_count": 39,
   "id": "a6f3611d",
   "metadata": {},
   "outputs": [],
   "source": [
    "#unpack\n",
    "\n",
    "a, b, c =[20,30,40] "
   ]
  },
  {
   "cell_type": "code",
   "execution_count": 40,
   "id": "193ed08c",
   "metadata": {},
   "outputs": [
    {
     "data": {
      "text/plain": [
       "20"
      ]
     },
     "execution_count": 40,
     "metadata": {},
     "output_type": "execute_result"
    }
   ],
   "source": [
    "a"
   ]
  },
  {
   "cell_type": "code",
   "execution_count": 41,
   "id": "b2a7529a",
   "metadata": {},
   "outputs": [
    {
     "data": {
      "text/plain": [
       "30"
      ]
     },
     "execution_count": 41,
     "metadata": {},
     "output_type": "execute_result"
    }
   ],
   "source": [
    "b"
   ]
  },
  {
   "cell_type": "code",
   "execution_count": 42,
   "id": "5d952a91",
   "metadata": {},
   "outputs": [
    {
     "data": {
      "text/plain": [
       "40"
      ]
     },
     "execution_count": 42,
     "metadata": {},
     "output_type": "execute_result"
    }
   ],
   "source": [
    "c"
   ]
  },
  {
   "cell_type": "code",
   "execution_count": 45,
   "id": "466a058f",
   "metadata": {},
   "outputs": [
    {
     "data": {
      "text/plain": [
       "['Ten', 'Twenty', 'Thirty']"
      ]
     },
     "execution_count": 45,
     "metadata": {},
     "output_type": "execute_result"
    }
   ],
   "source": [
    "keys"
   ]
  },
  {
   "cell_type": "code",
   "execution_count": 46,
   "id": "edae3003",
   "metadata": {},
   "outputs": [
    {
     "data": {
      "text/plain": [
       "[10, 20, 30]"
      ]
     },
     "execution_count": 46,
     "metadata": {},
     "output_type": "execute_result"
    }
   ],
   "source": [
    "values"
   ]
  },
  {
   "cell_type": "code",
   "execution_count": 57,
   "id": "253f62ec",
   "metadata": {},
   "outputs": [
    {
     "name": "stdout",
     "output_type": "stream",
     "text": [
      "{'Ten': 10}\n",
      "{'Ten': 10, 'Twenty': 20}\n",
      "{'Ten': 10, 'Twenty': 20, 'Thirty': 30}\n"
     ]
    }
   ],
   "source": [
    "Keys = ['Ten', 'Twenty', 'Thirty']\n",
    "values = [10, 20, 30]\n",
    "new_output = {}\n",
    "\n",
    "for k in range (len(keys)):\n",
    "        new_output[keys[k]] = values[k]\n",
    "        print(new_output)\n"
   ]
  },
  {
   "cell_type": "code",
   "execution_count": 54,
   "id": "65ebacc1",
   "metadata": {},
   "outputs": [
    {
     "data": {
      "text/plain": [
       "['Ten', 'Twenty', 'Thirty']"
      ]
     },
     "execution_count": 54,
     "metadata": {},
     "output_type": "execute_result"
    }
   ],
   "source": [
    "keys"
   ]
  },
  {
   "cell_type": "code",
   "execution_count": 55,
   "id": "e02dea27",
   "metadata": {},
   "outputs": [
    {
     "name": "stdout",
     "output_type": "stream",
     "text": [
      "(0, 'Ten')\n",
      "(1, 'Twenty')\n",
      "(2, 'Thirty')\n"
     ]
    }
   ],
   "source": [
    "keys = [\"Ten\", \"Twenty\", \"Thirty\"]\n",
    "\n",
    "for v in enumerate(keys):\n",
    "    print(v)"
   ]
  },
  {
   "cell_type": "code",
   "execution_count": 59,
   "id": "13c5e723",
   "metadata": {},
   "outputs": [
    {
     "data": {
      "text/plain": [
       "{'Ten': 10, 'Twenty': 20, 'Thirty': 30}"
      ]
     },
     "execution_count": 59,
     "metadata": {},
     "output_type": "execute_result"
    }
   ],
   "source": [
    "keys = [\"Ten\", \"Twenty\", \"Thirty\"]\n",
    "\n",
    "for idx,number in enumerate(keys):\n",
    "    new_output[keys[idx]] = values[idx]\n",
    "    \n",
    "new_output"
   ]
  },
  {
   "cell_type": "code",
   "execution_count": 60,
   "id": "e93036ae",
   "metadata": {},
   "outputs": [],
   "source": [
    "Keys = ['Ten', 'Twenty', 'Thirty']\n",
    "values = [10, 20, 30]"
   ]
  },
  {
   "cell_type": "code",
   "execution_count": 61,
   "id": "4eade28e",
   "metadata": {},
   "outputs": [
    {
     "data": {
      "text/plain": [
       "<zip at 0x7fb8b196a780>"
      ]
     },
     "execution_count": 61,
     "metadata": {},
     "output_type": "execute_result"
    }
   ],
   "source": [
    "zip(keys, values)"
   ]
  },
  {
   "cell_type": "code",
   "execution_count": 62,
   "id": "15daf2ce",
   "metadata": {},
   "outputs": [
    {
     "name": "stdout",
     "output_type": "stream",
     "text": [
      "('Ten', 10)\n",
      "('Twenty', 20)\n",
      "('Thirty', 30)\n"
     ]
    }
   ],
   "source": [
    "for nm in zip(keys, values):\n",
    "    print(nm)"
   ]
  },
  {
   "cell_type": "code",
   "execution_count": 63,
   "id": "0d2bf02e",
   "metadata": {},
   "outputs": [
    {
     "data": {
      "text/plain": [
       "{'Ten': 10, 'Twenty': 20, 'Thirty': 30}"
      ]
     },
     "execution_count": 63,
     "metadata": {},
     "output_type": "execute_result"
    }
   ],
   "source": [
    "dict(zip(keys, values))"
   ]
  },
  {
   "cell_type": "code",
   "execution_count": null,
   "id": "6e8f9cb2",
   "metadata": {},
   "outputs": [],
   "source": []
  }
 ],
 "metadata": {
  "kernelspec": {
   "display_name": "Python 3 (ipykernel)",
   "language": "python",
   "name": "python3"
  },
  "language_info": {
   "codemirror_mode": {
    "name": "ipython",
    "version": 3
   },
   "file_extension": ".py",
   "mimetype": "text/x-python",
   "name": "python",
   "nbconvert_exporter": "python",
   "pygments_lexer": "ipython3",
   "version": "3.9.12"
  }
 },
 "nbformat": 4,
 "nbformat_minor": 5
}
