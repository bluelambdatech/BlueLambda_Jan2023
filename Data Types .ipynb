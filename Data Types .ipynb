{
 "cells": [
  {
   "cell_type": "markdown",
   "id": "3e132dab",
   "metadata": {},
   "source": [
    "# Data Type"
   ]
  },
  {
   "cell_type": "code",
   "execution_count": 1,
   "id": "24f1a397",
   "metadata": {},
   "outputs": [],
   "source": [
    "product = 15 * 3"
   ]
  },
  {
   "cell_type": "code",
   "execution_count": 2,
   "id": "c3797811",
   "metadata": {},
   "outputs": [
    {
     "data": {
      "text/plain": [
       "45"
      ]
     },
     "execution_count": 2,
     "metadata": {},
     "output_type": "execute_result"
    }
   ],
   "source": [
    "product"
   ]
  },
  {
   "cell_type": "code",
   "execution_count": 3,
   "id": "620e1038",
   "metadata": {},
   "outputs": [],
   "source": [
    "name = \"Obinna\""
   ]
  },
  {
   "cell_type": "code",
   "execution_count": 7,
   "id": "c52370e2",
   "metadata": {},
   "outputs": [],
   "source": [
    "name = ('Obinnam')"
   ]
  },
  {
   "cell_type": "code",
   "execution_count": 8,
   "id": "21e53fab",
   "metadata": {},
   "outputs": [
    {
     "data": {
      "text/plain": [
       "'Obinnam'"
      ]
     },
     "execution_count": 8,
     "metadata": {},
     "output_type": "execute_result"
    }
   ],
   "source": [
    "name"
   ]
  },
  {
   "cell_type": "code",
   "execution_count": 9,
   "id": "16bfacd6",
   "metadata": {},
   "outputs": [],
   "source": [
    "remainder = 15 % 2"
   ]
  },
  {
   "cell_type": "code",
   "execution_count": 10,
   "id": "27d04c9f",
   "metadata": {},
   "outputs": [
    {
     "data": {
      "text/plain": [
       "1"
      ]
     },
     "execution_count": 10,
     "metadata": {},
     "output_type": "execute_result"
    }
   ],
   "source": [
    "remainder"
   ]
  },
  {
   "cell_type": "code",
   "execution_count": 11,
   "id": "aadc4629",
   "metadata": {},
   "outputs": [
    {
     "data": {
      "text/plain": [
       "int"
      ]
     },
     "execution_count": 11,
     "metadata": {},
     "output_type": "execute_result"
    }
   ],
   "source": [
    "type(product)"
   ]
  },
  {
   "cell_type": "code",
   "execution_count": 12,
   "id": "8b8db277",
   "metadata": {},
   "outputs": [],
   "source": [
    "name = \"Obinna emmanuel ofodum\""
   ]
  },
  {
   "cell_type": "code",
   "execution_count": 13,
   "id": "fb59fbd7",
   "metadata": {},
   "outputs": [
    {
     "data": {
      "text/plain": [
       "'Obinna emmanuel ofodum'"
      ]
     },
     "execution_count": 13,
     "metadata": {},
     "output_type": "execute_result"
    }
   ],
   "source": [
    "name"
   ]
  },
  {
   "cell_type": "code",
   "execution_count": 17,
   "id": "3146176a",
   "metadata": {},
   "outputs": [
    {
     "data": {
      "text/plain": [
       "'Obinna Emmanuel Ofodum'"
      ]
     },
     "execution_count": 17,
     "metadata": {},
     "output_type": "execute_result"
    }
   ],
   "source": [
    "name.title()"
   ]
  },
  {
   "cell_type": "code",
   "execution_count": 18,
   "id": "0ce83072",
   "metadata": {},
   "outputs": [
    {
     "data": {
      "text/plain": [
       "'OBINNA EMMANUEL OFODUM'"
      ]
     },
     "execution_count": 18,
     "metadata": {},
     "output_type": "execute_result"
    }
   ],
   "source": [
    "name.upper()"
   ]
  },
  {
   "cell_type": "code",
   "execution_count": 19,
   "id": "fc05bb68",
   "metadata": {},
   "outputs": [
    {
     "data": {
      "text/plain": [
       "'obinna emmanuel ofodum'"
      ]
     },
     "execution_count": 19,
     "metadata": {},
     "output_type": "execute_result"
    }
   ],
   "source": [
    "name.lower()"
   ]
  },
  {
   "cell_type": "code",
   "execution_count": 21,
   "id": "f2cafc71",
   "metadata": {},
   "outputs": [
    {
     "data": {
      "text/plain": [
       "2"
      ]
     },
     "execution_count": 21,
     "metadata": {},
     "output_type": "execute_result"
    }
   ],
   "source": [
    "name.count(\"o\")"
   ]
  },
  {
   "cell_type": "code",
   "execution_count": 22,
   "id": "fe38fd95",
   "metadata": {},
   "outputs": [
    {
     "data": {
      "text/plain": [
       "['Obinna', 'emmanuel', 'ofodum']"
      ]
     },
     "execution_count": 22,
     "metadata": {},
     "output_type": "execute_result"
    }
   ],
   "source": [
    "name.split()"
   ]
  },
  {
   "cell_type": "code",
   "execution_count": 23,
   "id": "c93db1a0",
   "metadata": {},
   "outputs": [],
   "source": [
    "### splice"
   ]
  },
  {
   "cell_type": "code",
   "execution_count": null,
   "id": "a77799a2",
   "metadata": {},
   "outputs": [],
   "source": [
    "name[start:stop:step]"
   ]
  },
  {
   "cell_type": "code",
   "execution_count": 26,
   "id": "c5e97941",
   "metadata": {},
   "outputs": [
    {
     "data": {
      "text/plain": [
       "'in ma'"
      ]
     },
     "execution_count": 26,
     "metadata": {},
     "output_type": "execute_result"
    }
   ],
   "source": [
    "name[2:12:2]"
   ]
  },
  {
   "cell_type": "code",
   "execution_count": 27,
   "id": "de7ec325",
   "metadata": {},
   "outputs": [
    {
     "data": {
      "text/plain": [
       "'Obinna emmanuel ofodum'"
      ]
     },
     "execution_count": 27,
     "metadata": {},
     "output_type": "execute_result"
    }
   ],
   "source": [
    "name[:]"
   ]
  },
  {
   "cell_type": "code",
   "execution_count": 28,
   "id": "ac0310d5",
   "metadata": {},
   "outputs": [
    {
     "data": {
      "text/plain": [
       "'Oaa u'"
      ]
     },
     "execution_count": 28,
     "metadata": {},
     "output_type": "execute_result"
    }
   ],
   "source": [
    "name[::5]"
   ]
  },
  {
   "cell_type": "code",
   "execution_count": 30,
   "id": "1b6ee98f",
   "metadata": {},
   "outputs": [],
   "source": [
    "name = \"obinna\""
   ]
  },
  {
   "cell_type": "code",
   "execution_count": 31,
   "id": "5c4d8410",
   "metadata": {},
   "outputs": [
    {
     "data": {
      "text/plain": [
       "'annibo'"
      ]
     },
     "execution_count": 31,
     "metadata": {},
     "output_type": "execute_result"
    }
   ],
   "source": [
    "name[::-1]"
   ]
  },
  {
   "cell_type": "code",
   "execution_count": 32,
   "id": "edc8dc44",
   "metadata": {},
   "outputs": [],
   "source": [
    "name = \"ofodum\""
   ]
  },
  {
   "cell_type": "code",
   "execution_count": 33,
   "id": "96bf03a3",
   "metadata": {},
   "outputs": [
    {
     "data": {
      "text/plain": [
       "'mudofo'"
      ]
     },
     "execution_count": 33,
     "metadata": {},
     "output_type": "execute_result"
    }
   ],
   "source": [
    "name[::-1]"
   ]
  },
  {
   "cell_type": "code",
   "execution_count": null,
   "id": "ba25126d",
   "metadata": {},
   "outputs": [],
   "source": []
  }
 ],
 "metadata": {
  "kernelspec": {
   "display_name": "Python 3 (ipykernel)",
   "language": "python",
   "name": "python3"
  },
  "language_info": {
   "codemirror_mode": {
    "name": "ipython",
    "version": 3
   },
   "file_extension": ".py",
   "mimetype": "text/x-python",
   "name": "python",
   "nbconvert_exporter": "python",
   "pygments_lexer": "ipython3",
   "version": "3.9.12"
  }
 },
 "nbformat": 4,
 "nbformat_minor": 5
}
